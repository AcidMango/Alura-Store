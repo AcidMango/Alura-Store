{
  "nbformat": 4,
  "nbformat_minor": 0,
  "metadata": {
    "colab": {
      "provenance": [],
      "include_colab_link": true
    },
    "kernelspec": {
      "name": "python3",
      "display_name": "Python 3"
    },
    "language_info": {
      "name": "python"
    }
  },
  "cells": [
    {
      "cell_type": "markdown",
      "metadata": {
        "id": "view-in-github",
        "colab_type": "text"
      },
      "source": [
        "<a href=\"https://colab.research.google.com/github/AcidMango/Alura-Store/blob/main/AluraStoreLatam.ipynb\" target=\"_parent\"><img src=\"https://colab.research.google.com/assets/colab-badge.svg\" alt=\"Open In Colab\"/></a>"
      ]
    },
    {
      "cell_type": "markdown",
      "source": [
        "### Importación de datos\n",
        "\n"
      ],
      "metadata": {
        "id": "RhEdWd9YUR6H"
      }
    },
    {
      "cell_type": "code",
      "execution_count": null,
      "metadata": {
        "id": "T3EvaeQ_INIL",
        "colab": {
          "base_uri": "https://localhost:8080/",
          "height": 206
        },
        "outputId": "4f517c28-d145-4dfa-a6bb-f3e71feffa30"
      },
      "outputs": [
        {
          "output_type": "execute_result",
          "data": {
            "text/plain": [
              "            Producto Categoría del Producto    Precio  Costo de envío  \\\n",
              "0  Asistente virtual           Electrónicos  164300.0          6900.0   \n",
              "1    Mesa de comedor                Muebles  192300.0          8400.0   \n",
              "2      Juego de mesa               Juguetes  209600.0         15900.0   \n",
              "3         Microondas      Electrodomésticos  757500.0         41000.0   \n",
              "4   Silla de oficina                Muebles  335200.0         20200.0   \n",
              "\n",
              "  Fecha de Compra         Vendedor Lugar de Compra  Calificación  \\\n",
              "0      16/01/2021      Pedro Gomez          Bogotá             4   \n",
              "1      18/05/2022  Beatriz Morales        Medellín             1   \n",
              "2      15/03/2021   Juan Fernandez       Cartagena             1   \n",
              "3      03/05/2022   Juan Fernandez            Cali             4   \n",
              "4      07/11/2020    Maria Alfonso        Medellín             5   \n",
              "\n",
              "       Método de pago  Cantidad de cuotas       lat       lon  \n",
              "0  Tarjeta de crédito                   8   4.60971 -74.08175  \n",
              "1  Tarjeta de crédito                   4   6.25184 -75.56359  \n",
              "2  Tarjeta de crédito                   1  10.39972 -75.51444  \n",
              "3               Nequi                   1   3.43722 -76.52250  \n",
              "4               Nequi                   1   6.25184 -75.56359  "
            ],
            "text/html": [
              "\n",
              "  <div id=\"df-52f46697-6118-4f93-a77f-120dca33a84e\" class=\"colab-df-container\">\n",
              "    <div>\n",
              "<style scoped>\n",
              "    .dataframe tbody tr th:only-of-type {\n",
              "        vertical-align: middle;\n",
              "    }\n",
              "\n",
              "    .dataframe tbody tr th {\n",
              "        vertical-align: top;\n",
              "    }\n",
              "\n",
              "    .dataframe thead th {\n",
              "        text-align: right;\n",
              "    }\n",
              "</style>\n",
              "<table border=\"1\" class=\"dataframe\">\n",
              "  <thead>\n",
              "    <tr style=\"text-align: right;\">\n",
              "      <th></th>\n",
              "      <th>Producto</th>\n",
              "      <th>Categoría del Producto</th>\n",
              "      <th>Precio</th>\n",
              "      <th>Costo de envío</th>\n",
              "      <th>Fecha de Compra</th>\n",
              "      <th>Vendedor</th>\n",
              "      <th>Lugar de Compra</th>\n",
              "      <th>Calificación</th>\n",
              "      <th>Método de pago</th>\n",
              "      <th>Cantidad de cuotas</th>\n",
              "      <th>lat</th>\n",
              "      <th>lon</th>\n",
              "    </tr>\n",
              "  </thead>\n",
              "  <tbody>\n",
              "    <tr>\n",
              "      <th>0</th>\n",
              "      <td>Asistente virtual</td>\n",
              "      <td>Electrónicos</td>\n",
              "      <td>164300.0</td>\n",
              "      <td>6900.0</td>\n",
              "      <td>16/01/2021</td>\n",
              "      <td>Pedro Gomez</td>\n",
              "      <td>Bogotá</td>\n",
              "      <td>4</td>\n",
              "      <td>Tarjeta de crédito</td>\n",
              "      <td>8</td>\n",
              "      <td>4.60971</td>\n",
              "      <td>-74.08175</td>\n",
              "    </tr>\n",
              "    <tr>\n",
              "      <th>1</th>\n",
              "      <td>Mesa de comedor</td>\n",
              "      <td>Muebles</td>\n",
              "      <td>192300.0</td>\n",
              "      <td>8400.0</td>\n",
              "      <td>18/05/2022</td>\n",
              "      <td>Beatriz Morales</td>\n",
              "      <td>Medellín</td>\n",
              "      <td>1</td>\n",
              "      <td>Tarjeta de crédito</td>\n",
              "      <td>4</td>\n",
              "      <td>6.25184</td>\n",
              "      <td>-75.56359</td>\n",
              "    </tr>\n",
              "    <tr>\n",
              "      <th>2</th>\n",
              "      <td>Juego de mesa</td>\n",
              "      <td>Juguetes</td>\n",
              "      <td>209600.0</td>\n",
              "      <td>15900.0</td>\n",
              "      <td>15/03/2021</td>\n",
              "      <td>Juan Fernandez</td>\n",
              "      <td>Cartagena</td>\n",
              "      <td>1</td>\n",
              "      <td>Tarjeta de crédito</td>\n",
              "      <td>1</td>\n",
              "      <td>10.39972</td>\n",
              "      <td>-75.51444</td>\n",
              "    </tr>\n",
              "    <tr>\n",
              "      <th>3</th>\n",
              "      <td>Microondas</td>\n",
              "      <td>Electrodomésticos</td>\n",
              "      <td>757500.0</td>\n",
              "      <td>41000.0</td>\n",
              "      <td>03/05/2022</td>\n",
              "      <td>Juan Fernandez</td>\n",
              "      <td>Cali</td>\n",
              "      <td>4</td>\n",
              "      <td>Nequi</td>\n",
              "      <td>1</td>\n",
              "      <td>3.43722</td>\n",
              "      <td>-76.52250</td>\n",
              "    </tr>\n",
              "    <tr>\n",
              "      <th>4</th>\n",
              "      <td>Silla de oficina</td>\n",
              "      <td>Muebles</td>\n",
              "      <td>335200.0</td>\n",
              "      <td>20200.0</td>\n",
              "      <td>07/11/2020</td>\n",
              "      <td>Maria Alfonso</td>\n",
              "      <td>Medellín</td>\n",
              "      <td>5</td>\n",
              "      <td>Nequi</td>\n",
              "      <td>1</td>\n",
              "      <td>6.25184</td>\n",
              "      <td>-75.56359</td>\n",
              "    </tr>\n",
              "  </tbody>\n",
              "</table>\n",
              "</div>\n",
              "    <div class=\"colab-df-buttons\">\n",
              "\n",
              "  <div class=\"colab-df-container\">\n",
              "    <button class=\"colab-df-convert\" onclick=\"convertToInteractive('df-52f46697-6118-4f93-a77f-120dca33a84e')\"\n",
              "            title=\"Convert this dataframe to an interactive table.\"\n",
              "            style=\"display:none;\">\n",
              "\n",
              "  <svg xmlns=\"http://www.w3.org/2000/svg\" height=\"24px\" viewBox=\"0 -960 960 960\">\n",
              "    <path d=\"M120-120v-720h720v720H120Zm60-500h600v-160H180v160Zm220 220h160v-160H400v160Zm0 220h160v-160H400v160ZM180-400h160v-160H180v160Zm440 0h160v-160H620v160ZM180-180h160v-160H180v160Zm440 0h160v-160H620v160Z\"/>\n",
              "  </svg>\n",
              "    </button>\n",
              "\n",
              "  <style>\n",
              "    .colab-df-container {\n",
              "      display:flex;\n",
              "      gap: 12px;\n",
              "    }\n",
              "\n",
              "    .colab-df-convert {\n",
              "      background-color: #E8F0FE;\n",
              "      border: none;\n",
              "      border-radius: 50%;\n",
              "      cursor: pointer;\n",
              "      display: none;\n",
              "      fill: #1967D2;\n",
              "      height: 32px;\n",
              "      padding: 0 0 0 0;\n",
              "      width: 32px;\n",
              "    }\n",
              "\n",
              "    .colab-df-convert:hover {\n",
              "      background-color: #E2EBFA;\n",
              "      box-shadow: 0px 1px 2px rgba(60, 64, 67, 0.3), 0px 1px 3px 1px rgba(60, 64, 67, 0.15);\n",
              "      fill: #174EA6;\n",
              "    }\n",
              "\n",
              "    .colab-df-buttons div {\n",
              "      margin-bottom: 4px;\n",
              "    }\n",
              "\n",
              "    [theme=dark] .colab-df-convert {\n",
              "      background-color: #3B4455;\n",
              "      fill: #D2E3FC;\n",
              "    }\n",
              "\n",
              "    [theme=dark] .colab-df-convert:hover {\n",
              "      background-color: #434B5C;\n",
              "      box-shadow: 0px 1px 3px 1px rgba(0, 0, 0, 0.15);\n",
              "      filter: drop-shadow(0px 1px 2px rgba(0, 0, 0, 0.3));\n",
              "      fill: #FFFFFF;\n",
              "    }\n",
              "  </style>\n",
              "\n",
              "    <script>\n",
              "      const buttonEl =\n",
              "        document.querySelector('#df-52f46697-6118-4f93-a77f-120dca33a84e button.colab-df-convert');\n",
              "      buttonEl.style.display =\n",
              "        google.colab.kernel.accessAllowed ? 'block' : 'none';\n",
              "\n",
              "      async function convertToInteractive(key) {\n",
              "        const element = document.querySelector('#df-52f46697-6118-4f93-a77f-120dca33a84e');\n",
              "        const dataTable =\n",
              "          await google.colab.kernel.invokeFunction('convertToInteractive',\n",
              "                                                    [key], {});\n",
              "        if (!dataTable) return;\n",
              "\n",
              "        const docLinkHtml = 'Like what you see? Visit the ' +\n",
              "          '<a target=\"_blank\" href=https://colab.research.google.com/notebooks/data_table.ipynb>data table notebook</a>'\n",
              "          + ' to learn more about interactive tables.';\n",
              "        element.innerHTML = '';\n",
              "        dataTable['output_type'] = 'display_data';\n",
              "        await google.colab.output.renderOutput(dataTable, element);\n",
              "        const docLink = document.createElement('div');\n",
              "        docLink.innerHTML = docLinkHtml;\n",
              "        element.appendChild(docLink);\n",
              "      }\n",
              "    </script>\n",
              "  </div>\n",
              "\n",
              "\n",
              "<div id=\"df-7bee4567-4a20-4889-a396-c2fcb002b815\">\n",
              "  <button class=\"colab-df-quickchart\" onclick=\"quickchart('df-7bee4567-4a20-4889-a396-c2fcb002b815')\"\n",
              "            title=\"Suggest charts\"\n",
              "            style=\"display:none;\">\n",
              "\n",
              "<svg xmlns=\"http://www.w3.org/2000/svg\" height=\"24px\"viewBox=\"0 0 24 24\"\n",
              "     width=\"24px\">\n",
              "    <g>\n",
              "        <path d=\"M19 3H5c-1.1 0-2 .9-2 2v14c0 1.1.9 2 2 2h14c1.1 0 2-.9 2-2V5c0-1.1-.9-2-2-2zM9 17H7v-7h2v7zm4 0h-2V7h2v10zm4 0h-2v-4h2v4z\"/>\n",
              "    </g>\n",
              "</svg>\n",
              "  </button>\n",
              "\n",
              "<style>\n",
              "  .colab-df-quickchart {\n",
              "      --bg-color: #E8F0FE;\n",
              "      --fill-color: #1967D2;\n",
              "      --hover-bg-color: #E2EBFA;\n",
              "      --hover-fill-color: #174EA6;\n",
              "      --disabled-fill-color: #AAA;\n",
              "      --disabled-bg-color: #DDD;\n",
              "  }\n",
              "\n",
              "  [theme=dark] .colab-df-quickchart {\n",
              "      --bg-color: #3B4455;\n",
              "      --fill-color: #D2E3FC;\n",
              "      --hover-bg-color: #434B5C;\n",
              "      --hover-fill-color: #FFFFFF;\n",
              "      --disabled-bg-color: #3B4455;\n",
              "      --disabled-fill-color: #666;\n",
              "  }\n",
              "\n",
              "  .colab-df-quickchart {\n",
              "    background-color: var(--bg-color);\n",
              "    border: none;\n",
              "    border-radius: 50%;\n",
              "    cursor: pointer;\n",
              "    display: none;\n",
              "    fill: var(--fill-color);\n",
              "    height: 32px;\n",
              "    padding: 0;\n",
              "    width: 32px;\n",
              "  }\n",
              "\n",
              "  .colab-df-quickchart:hover {\n",
              "    background-color: var(--hover-bg-color);\n",
              "    box-shadow: 0 1px 2px rgba(60, 64, 67, 0.3), 0 1px 3px 1px rgba(60, 64, 67, 0.15);\n",
              "    fill: var(--button-hover-fill-color);\n",
              "  }\n",
              "\n",
              "  .colab-df-quickchart-complete:disabled,\n",
              "  .colab-df-quickchart-complete:disabled:hover {\n",
              "    background-color: var(--disabled-bg-color);\n",
              "    fill: var(--disabled-fill-color);\n",
              "    box-shadow: none;\n",
              "  }\n",
              "\n",
              "  .colab-df-spinner {\n",
              "    border: 2px solid var(--fill-color);\n",
              "    border-color: transparent;\n",
              "    border-bottom-color: var(--fill-color);\n",
              "    animation:\n",
              "      spin 1s steps(1) infinite;\n",
              "  }\n",
              "\n",
              "  @keyframes spin {\n",
              "    0% {\n",
              "      border-color: transparent;\n",
              "      border-bottom-color: var(--fill-color);\n",
              "      border-left-color: var(--fill-color);\n",
              "    }\n",
              "    20% {\n",
              "      border-color: transparent;\n",
              "      border-left-color: var(--fill-color);\n",
              "      border-top-color: var(--fill-color);\n",
              "    }\n",
              "    30% {\n",
              "      border-color: transparent;\n",
              "      border-left-color: var(--fill-color);\n",
              "      border-top-color: var(--fill-color);\n",
              "      border-right-color: var(--fill-color);\n",
              "    }\n",
              "    40% {\n",
              "      border-color: transparent;\n",
              "      border-right-color: var(--fill-color);\n",
              "      border-top-color: var(--fill-color);\n",
              "    }\n",
              "    60% {\n",
              "      border-color: transparent;\n",
              "      border-right-color: var(--fill-color);\n",
              "    }\n",
              "    80% {\n",
              "      border-color: transparent;\n",
              "      border-right-color: var(--fill-color);\n",
              "      border-bottom-color: var(--fill-color);\n",
              "    }\n",
              "    90% {\n",
              "      border-color: transparent;\n",
              "      border-bottom-color: var(--fill-color);\n",
              "    }\n",
              "  }\n",
              "</style>\n",
              "\n",
              "  <script>\n",
              "    async function quickchart(key) {\n",
              "      const quickchartButtonEl =\n",
              "        document.querySelector('#' + key + ' button');\n",
              "      quickchartButtonEl.disabled = true;  // To prevent multiple clicks.\n",
              "      quickchartButtonEl.classList.add('colab-df-spinner');\n",
              "      try {\n",
              "        const charts = await google.colab.kernel.invokeFunction(\n",
              "            'suggestCharts', [key], {});\n",
              "      } catch (error) {\n",
              "        console.error('Error during call to suggestCharts:', error);\n",
              "      }\n",
              "      quickchartButtonEl.classList.remove('colab-df-spinner');\n",
              "      quickchartButtonEl.classList.add('colab-df-quickchart-complete');\n",
              "    }\n",
              "    (() => {\n",
              "      let quickchartButtonEl =\n",
              "        document.querySelector('#df-7bee4567-4a20-4889-a396-c2fcb002b815 button');\n",
              "      quickchartButtonEl.style.display =\n",
              "        google.colab.kernel.accessAllowed ? 'block' : 'none';\n",
              "    })();\n",
              "  </script>\n",
              "</div>\n",
              "\n",
              "    </div>\n",
              "  </div>\n"
            ],
            "application/vnd.google.colaboratory.intrinsic+json": {
              "type": "dataframe",
              "variable_name": "tienda1",
              "summary": "{\n  \"name\": \"tienda1\",\n  \"rows\": 2359,\n  \"fields\": [\n    {\n      \"column\": \"Producto\",\n      \"properties\": {\n        \"dtype\": \"category\",\n        \"num_unique_values\": 51,\n        \"samples\": [\n          \"Guitarra ac\\u00fastica\",\n          \"Bal\\u00f3n de baloncesto\",\n          \"Smartwatch\"\n        ],\n        \"semantic_type\": \"\",\n        \"description\": \"\"\n      }\n    },\n    {\n      \"column\": \"Categor\\u00eda del Producto\",\n      \"properties\": {\n        \"dtype\": \"category\",\n        \"num_unique_values\": 8,\n        \"samples\": [\n          \"Muebles\",\n          \"Deportes y diversi\\u00f3n\",\n          \"Electr\\u00f3nicos\"\n        ],\n        \"semantic_type\": \"\",\n        \"description\": \"\"\n      }\n    },\n    {\n      \"column\": \"Precio\",\n      \"properties\": {\n        \"dtype\": \"number\",\n        \"std\": 614686.7653873172,\n        \"min\": 7600.0,\n        \"max\": 2977000.0,\n        \"num_unique_values\": 1937,\n        \"samples\": [\n          2499400.0,\n          14800.0,\n          80500.0\n        ],\n        \"semantic_type\": \"\",\n        \"description\": \"\"\n      }\n    },\n    {\n      \"column\": \"Costo de env\\u00edo\",\n      \"properties\": {\n        \"dtype\": \"number\",\n        \"std\": 32860.0017825605,\n        \"min\": 0.0,\n        \"max\": 160800.0,\n        \"num_unique_values\": 753,\n        \"samples\": [\n          117800.0,\n          54700.0,\n          45600.0\n        ],\n        \"semantic_type\": \"\",\n        \"description\": \"\"\n      }\n    },\n    {\n      \"column\": \"Fecha de Compra\",\n      \"properties\": {\n        \"dtype\": \"object\",\n        \"num_unique_values\": 1018,\n        \"samples\": [\n          \"15/09/2022\",\n          \"03/06/2020\",\n          \"06/11/2021\"\n        ],\n        \"semantic_type\": \"\",\n        \"description\": \"\"\n      }\n    },\n    {\n      \"column\": \"Vendedor\",\n      \"properties\": {\n        \"dtype\": \"category\",\n        \"num_unique_values\": 14,\n        \"samples\": [\n          \"Juliana Costa\",\n          \"Mariana Herrera\",\n          \"Pedro Gomez\"\n        ],\n        \"semantic_type\": \"\",\n        \"description\": \"\"\n      }\n    },\n    {\n      \"column\": \"Lugar de Compra\",\n      \"properties\": {\n        \"dtype\": \"category\",\n        \"num_unique_values\": 19,\n        \"samples\": [\n          \"Bogot\\u00e1\",\n          \"Pereira\",\n          \"Neiva\"\n        ],\n        \"semantic_type\": \"\",\n        \"description\": \"\"\n      }\n    },\n    {\n      \"column\": \"Calificaci\\u00f3n\",\n      \"properties\": {\n        \"dtype\": \"number\",\n        \"std\": 1,\n        \"min\": 1,\n        \"max\": 5,\n        \"num_unique_values\": 5,\n        \"samples\": [\n          1,\n          2,\n          5\n        ],\n        \"semantic_type\": \"\",\n        \"description\": \"\"\n      }\n    },\n    {\n      \"column\": \"M\\u00e9todo de pago\",\n      \"properties\": {\n        \"dtype\": \"category\",\n        \"num_unique_values\": 4,\n        \"samples\": [\n          \"Nequi\",\n          \"Tarjeta de d\\u00e9bito\",\n          \"Tarjeta de cr\\u00e9dito\"\n        ],\n        \"semantic_type\": \"\",\n        \"description\": \"\"\n      }\n    },\n    {\n      \"column\": \"Cantidad de cuotas\",\n      \"properties\": {\n        \"dtype\": \"number\",\n        \"std\": 2,\n        \"min\": 1,\n        \"max\": 24,\n        \"num_unique_values\": 15,\n        \"samples\": [\n          7,\n          14,\n          8\n        ],\n        \"semantic_type\": \"\",\n        \"description\": \"\"\n      }\n    },\n    {\n      \"column\": \"lat\",\n      \"properties\": {\n        \"dtype\": \"number\",\n        \"std\": 2.2874452492678627,\n        \"min\": -4.21528,\n        \"max\": 11.54444,\n        \"num_unique_values\": 19,\n        \"samples\": [\n          4.60971,\n          4.81333,\n          2.9273\n        ],\n        \"semantic_type\": \"\",\n        \"description\": \"\"\n      }\n    },\n    {\n      \"column\": \"lon\",\n      \"properties\": {\n        \"dtype\": \"number\",\n        \"std\": 1.2178272727088486,\n        \"min\": -77.28111,\n        \"max\": -67.9239,\n        \"num_unique_values\": 19,\n        \"samples\": [\n          -74.08175,\n          -75.69611,\n          -75.28189\n        ],\n        \"semantic_type\": \"\",\n        \"description\": \"\"\n      }\n    }\n  ]\n}"
            }
          },
          "metadata": {},
          "execution_count": 48
        }
      ],
      "source": [
        "import pandas as pd\n",
        "import matplotlib.pyplot as plt\n",
        "import numpy as np\n",
        "\n",
        "\n",
        "url = \"https://raw.githubusercontent.com/alura-es-cursos/challenge1-data-science-latam/refs/heads/main/base-de-datos-challenge1-latam/tienda_1%20.csv\"\n",
        "url2 = \"https://raw.githubusercontent.com/alura-es-cursos/challenge1-data-science-latam/refs/heads/main/base-de-datos-challenge1-latam/tienda_2.csv\"\n",
        "url3 = \"https://raw.githubusercontent.com/alura-es-cursos/challenge1-data-science-latam/refs/heads/main/base-de-datos-challenge1-latam/tienda_3.csv\"\n",
        "url4 = \"https://raw.githubusercontent.com/alura-es-cursos/challenge1-data-science-latam/refs/heads/main/base-de-datos-challenge1-latam/tienda_4.csv\"\n",
        "\n",
        "tienda1 = pd.read_csv(url)\n",
        "tienda2 = pd.read_csv(url2)\n",
        "tienda3 = pd.read_csv(url3)\n",
        "tienda4 = pd.read_csv(url4)\n",
        "\n",
        "tiendas = [\"Tienda 1\", \"Tienda 2\", \"Tienda 3\", \"Tienda 4\"]\n",
        "\n",
        "tienda1.head()\n"
      ]
    },
    {
      "cell_type": "markdown",
      "source": [
        "#1. Análisis de facturación\n",
        "\n"
      ],
      "metadata": {
        "id": "X62IW3KFUIYm"
      }
    },
    {
      "cell_type": "code",
      "source": [
        "ventas_totales_tienda1 = 0\n",
        "ventas_totales_tienda2 = 0\n",
        "ventas_totales_tienda3 = 0\n",
        "ventas_totales_tienda4 = 0\n",
        "ventas_totales = 0\n",
        "\n",
        "for valor_venta in tienda1['Precio']:\n",
        "    ventas_totales_tienda1 += valor_venta\n",
        "\n",
        "for valor_venta in tienda2['Precio']:\n",
        "    ventas_totales_tienda2 += valor_venta\n",
        "\n",
        "for valor_venta in tienda3['Precio']:\n",
        "    ventas_totales_tienda3 += valor_venta\n",
        "\n",
        "for valor_venta in tienda4['Precio']:\n",
        "    ventas_totales_tienda4 += valor_venta\n",
        "\n",
        "ventas_totales = [ventas_totales_tienda1, ventas_totales_tienda2, ventas_totales_tienda3, ventas_totales_tienda4]"
      ],
      "metadata": {
        "id": "xykobSftV64I"
      },
      "execution_count": null,
      "outputs": []
    },
    {
      "cell_type": "code",
      "source": [
        "print(\"========= Ventas por tienda =========\")\n",
        "print(\"\\tTienda 1:\\t{}\\n\\tTienda 2:\\t{}\\n\\tTienda 3:\\t{}\\n\\tTienda 4:\\t{}\\nVenta total:\\t{}\".format(ventas_totales_tienda1, ventas_totales_tienda2, ventas_totales_tienda3, ventas_totales_tienda4, sum(ventas_totales)))"
      ],
      "metadata": {
        "id": "KDyr8E71V3m-",
        "colab": {
          "base_uri": "https://localhost:8080/"
        },
        "outputId": "b4ce4f89-f063-4009-ed22-7124f6594418"
      },
      "execution_count": null,
      "outputs": [
        {
          "output_type": "stream",
          "name": "stdout",
          "text": [
            "========= Ventas por tienda =========\n",
            "\tTienda 1:\t1150880400.0\n",
            "\tTienda 2:\t1116343500.0\n",
            "\tTienda 3:\t1098019600.0\n",
            "\tTienda 4:\t1038375700.0\n",
            "Venta total:\t4403619200.0\n"
          ]
        }
      ]
    },
    {
      "cell_type": "code",
      "source": [
        "fig, ax = plt.subplots()\n",
        "ax.pie(ventas_totales, labels=tiendas, autopct='%1.1f%%')"
      ],
      "metadata": {
        "colab": {
          "base_uri": "https://localhost:8080/",
          "height": 614
        },
        "id": "C5fd5wfyLJtH",
        "outputId": "a1a0482a-c366-45f5-8cef-f6ee97976a71"
      },
      "execution_count": null,
      "outputs": [
        {
          "output_type": "execute_result",
          "data": {
            "text/plain": [
              "([<matplotlib.patches.Wedge at 0x79095417a4d0>,\n",
              "  <matplotlib.patches.Wedge at 0x790953557450>,\n",
              "  <matplotlib.patches.Wedge at 0x790953561550>,\n",
              "  <matplotlib.patches.Wedge at 0x790953560b90>],\n",
              " [Text(0.7495973468533299, 0.805048953536646, 'Tienda 1'),\n",
              "  Text(-0.839141441130957, 0.7112254507374302, 'Tienda 2'),\n",
              "  Text(-0.7036817784255762, -0.8454773531631811, 'Tienda 3'),\n",
              "  Text(0.8117301241952743, -0.742357195340575, 'Tienda 4')],\n",
              " [Text(0.4088712801018163, 0.43911761101998864, '26.1%'),\n",
              "  Text(-0.45771351334415833, 0.3879411549476891, '25.4%'),\n",
              "  Text(-0.3838264245957688, -0.4611694653617351, '24.9%'),\n",
              "  Text(0.44276188592469506, -0.40492210654940447, '23.6%')])"
            ]
          },
          "metadata": {},
          "execution_count": 7
        },
        {
          "output_type": "display_data",
          "data": {
            "text/plain": [
              "<Figure size 640x480 with 1 Axes>"
            ],
            "image/png": "[encoded data removed]"
          },
          "metadata": {}
        }
      ]
    },
    {
      "cell_type": "markdown",
      "source": [
        "# 2. Ventas por categoría"
      ],
      "metadata": {
        "id": "2V_vcAPzWZmR"
      }
    },
    {
      "cell_type": "code",
      "source": [
        "venta_categorias_tienda1 = {}\n",
        "for categoria in tienda1['Categoría del Producto']:\n",
        "    if categoria in venta_categorias_tienda1:\n",
        "        venta_categorias_tienda1[categoria] += 1\n",
        "    else:\n",
        "        venta_categorias_tienda1[categoria] = 1\n",
        "\n",
        "popular_tienda1 = max(venta_categorias_tienda1, key=lambda k: venta_categorias_tienda1[k])\n",
        "\n",
        "venta_categorias_tienda2 = {}\n",
        "for categoria in tienda2['Categoría del Producto']:\n",
        "    if categoria in venta_categorias_tienda2:\n",
        "        venta_categorias_tienda2[categoria] += 1\n",
        "    else:\n",
        "        venta_categorias_tienda2[categoria] = 1\n",
        "\n",
        "popular_tienda2 = max(venta_categorias_tienda2, key=lambda k: venta_categorias_tienda2[k])\n",
        "\n",
        "venta_categorias_tienda3 = {}\n",
        "for categoria in tienda3['Categoría del Producto']:\n",
        "    if categoria in venta_categorias_tienda3:\n",
        "        venta_categorias_tienda3[categoria] += 1\n",
        "    else:\n",
        "        venta_categorias_tienda3[categoria] = 1\n",
        "\n",
        "popular_tienda3 = max(venta_categorias_tienda3, key=lambda k: venta_categorias_tienda3[k])\n",
        "\n",
        "venta_categorias_tienda4 = {}\n",
        "for categoria in tienda4['Categoría del Producto']:\n",
        "    if categoria in venta_categorias_tienda4:\n",
        "        venta_categorias_tienda4[categoria] += 1\n",
        "    else:\n",
        "        venta_categorias_tienda4[categoria] = 1\n",
        "\n",
        "popular_tienda4 = max(venta_categorias_tienda4, key=lambda k: venta_categorias_tienda4[k])"
      ],
      "metadata": {
        "id": "A34YupIuYhfF"
      },
      "execution_count": null,
      "outputs": []
    },
    {
      "cell_type": "code",
      "source": [
        "print(\"============= Categorías más populares por tienda =============\")\n",
        "print(\"\\n\\tTienda\\t\\tCategoría\\t\\tTotal Ventas\")\n",
        "print(\"\\t----------------------------------------------------\")\n",
        "print(\"\\tTienda 1\\t{}\\t\\t\\t\\t {}\\n\\tTienda 2\\t{}\\t\\t\\t\\t {}\\n\\tTienda 3\\t{}\\t\\t\\t\\t {}\\n\\tTienda 4\\t{}\\t\\t\\t\\t {}\\n\".format(popular_tienda1, venta_categorias_tienda1[popular_tienda1], popular_tienda2, venta_categorias_tienda2[popular_tienda2], popular_tienda3, venta_categorias_tienda3[popular_tienda3], popular_tienda4, venta_categorias_tienda4[popular_tienda4]))\n",
        "print(\"==============================================================\")"
      ],
      "metadata": {
        "id": "yZR6cOjXYSk1",
        "colab": {
          "base_uri": "https://localhost:8080/"
        },
        "outputId": "4dffedbb-917a-4356-da75-cff68acc6be6"
      },
      "execution_count": null,
      "outputs": [
        {
          "output_type": "stream",
          "name": "stdout",
          "text": [
            "============= Categorías más populares por tienda =============\n",
            "\n",
            "\tTienda\t\tCategoría\t\tTotal Ventas\n",
            "\t----------------------------------------------------\n",
            "\tTienda 1\tMuebles\t\t\t\t 465\n",
            "\tTienda 2\tMuebles\t\t\t\t 442\n",
            "\tTienda 3\tMuebles\t\t\t\t 499\n",
            "\tTienda 4\tMuebles\t\t\t\t 480\n",
            "\n",
            "==============================================================\n"
          ]
        }
      ]
    },
    {
      "cell_type": "markdown",
      "source": [
        "# 3. Calificación promedio de la tienda\n"
      ],
      "metadata": {
        "id": "Rq6tU_xSY3jk"
      }
    },
    {
      "cell_type": "code",
      "source": [
        "calif_tienda1 = [calif for calif in tienda1['Calificación']]\n",
        "prom_calif_tienda1 = sum(calif_tienda1)/len(calif_tienda1)\n",
        "\n",
        "calif_tienda2 = [calif for calif in tienda2['Calificación']]\n",
        "prom_calif_tienda2 = sum(calif_tienda2)/len(calif_tienda2)\n",
        "\n",
        "calif_tienda3 = [calif for calif in tienda3['Calificación']]\n",
        "prom_calif_tienda3 = sum(calif_tienda3)/len(calif_tienda3)\n",
        "\n",
        "calif_tienda4 = [calif for calif in tienda4['Calificación']]\n",
        "prom_calif_tienda4 = sum(calif_tienda4)/len(calif_tienda4)"
      ],
      "metadata": {
        "id": "bh3jjjJwY5MU"
      },
      "execution_count": null,
      "outputs": []
    },
    {
      "cell_type": "code",
      "source": [
        "print(\"========== Satisfacción de Clientes por tienda ==========\")\n",
        "print(\"\\n\\tTienda\\t\\tCalificación Promedio\")\n",
        "print(\"\\t-------------------------------------\")\n",
        "print(\"\\tTienda 1\\t\\t{:.2f}\\n\\tTienda 2\\t\\t{:.2f}\\n\\tTienda 3\\t\\t{:.2f}\\n\\tTienda 4\\t\\t{:.2f}\".format(prom_calif_tienda1, prom_calif_tienda2, prom_calif_tienda3, prom_calif_tienda4))"
      ],
      "metadata": {
        "id": "I0KkjPoTY88F",
        "colab": {
          "base_uri": "https://localhost:8080/"
        },
        "outputId": "4076d61b-086b-45e4-da6c-04452140d95b"
      },
      "execution_count": null,
      "outputs": [
        {
          "output_type": "stream",
          "name": "stdout",
          "text": [
            "========== Satisfacción de Clientes por tienda ==========\n",
            "\n",
            "\tTienda\t\tCalificación Promedio\n",
            "\t-------------------------------------\n",
            "\tTienda 1\t\t3.98\n",
            "\tTienda 2\t\t4.04\n",
            "\tTienda 3\t\t4.05\n",
            "\tTienda 4\t\t4.00\n"
          ]
        }
      ]
    },
    {
      "cell_type": "code",
      "source": [
        "# make data\n",
        "calificaciones_por_tienda = [prom_calif_tienda1, prom_calif_tienda2, prom_calif_tienda3, prom_calif_tienda4]\n",
        "\n",
        "# plot\n",
        "\n",
        "plt.figure(figsize=(5,2))\n",
        "plt.subplot(111)\n",
        "plt.title('Promedio de Calificaciones por Tienda')\n",
        "plt.ylabel('Calificación')\n",
        "min_val = min(calificaciones_por_tienda)\n",
        "max_val = max(calificaciones_por_tienda)\n",
        "margen = 0.1\n",
        "plt.ylim(min_val - margen, max_val + margen)\n",
        "\n",
        "# Aún así mostrar ticks completos\n",
        "plt.yticks([1, 2, 3, 4, 5])\n",
        "plt.grid(True)\n",
        "\n",
        "\n",
        "\n",
        "plt.plot(tiendas, calificaciones_por_tienda, marker='o', color='green')\n",
        "for i, valor in enumerate(calificaciones_por_tienda):\n",
        "    plt.text(tiendas[i], valor + 0.05, f'{valor:.2f}', ha='center', fontsize=8)\n",
        "\n",
        "plt.show()"
      ],
      "metadata": {
        "id": "cfDNmiqwUJ4D",
        "colab": {
          "base_uri": "https://localhost:8080/",
          "height": 237
        },
        "outputId": "0ebab949-1642-40cb-8847-8ca070777e62"
      },
      "execution_count": null,
      "outputs": [
        {
          "output_type": "display_data",
          "data": {
            "text/plain": [
              "<Figure size 500x200 with 1 Axes>"
            ],
            "image/png": "[encoded data removed]"
          },
          "metadata": {}
        }
      ]
    },
    {
      "cell_type": "markdown",
      "source": [
        "# 4. Productos más y menos vendidos"
      ],
      "metadata": {
        "id": "DmNp1KPBZCm-"
      }
    },
    {
      "cell_type": "code",
      "source": [
        "ventas_por_producto_tienda1 = {}\n",
        "ventas_por_producto_tienda2 = {}\n",
        "ventas_por_producto_tienda3 = {}\n",
        "ventas_por_producto_tienda4 = {}\n",
        "\n",
        "for producto in tienda1['Producto']:\n",
        "    if producto in ventas_por_producto_tienda1:\n",
        "        ventas_por_producto_tienda1[producto] += 1\n",
        "    else:\n",
        "        ventas_por_producto_tienda1[producto] = 1\n",
        "\n",
        "mas_vendido_tienda1 = max(ventas_por_producto_tienda1, key=lambda k: ventas_por_producto_tienda1[k])\n",
        "menos_vendido_tienda1 = min(ventas_por_producto_tienda1, key=lambda k: ventas_por_producto_tienda1[k])\n",
        "\n",
        "for producto in tienda2['Producto']:\n",
        "    if producto in ventas_por_producto_tienda2:\n",
        "        ventas_por_producto_tienda2[producto] += 1\n",
        "    else:\n",
        "        ventas_por_producto_tienda2[producto] = 1\n",
        "\n",
        "mas_vendido_tienda2 = max(ventas_por_producto_tienda2, key=lambda k: ventas_por_producto_tienda2[k])\n",
        "menos_vendido_tienda2 = min(ventas_por_producto_tienda2, key=lambda k: ventas_por_producto_tienda2[k])\n",
        "\n",
        "for producto in tienda3['Producto']:\n",
        "    if producto in ventas_por_producto_tienda3:\n",
        "        ventas_por_producto_tienda3[producto] += 1\n",
        "    else:\n",
        "        ventas_por_producto_tienda3[producto] = 1\n",
        "\n",
        "mas_vendido_tienda3 = max(ventas_por_producto_tienda3, key=lambda k: ventas_por_producto_tienda3[k])\n",
        "menos_vendido_tienda3 = min(ventas_por_producto_tienda3, key=lambda k: ventas_por_producto_tienda3[k])\n",
        "\n",
        "for producto in tienda4['Producto']:\n",
        "    if producto in ventas_por_producto_tienda4:\n",
        "        ventas_por_producto_tienda4[producto] += 1\n",
        "    else:\n",
        "        ventas_por_producto_tienda4[producto] = 1\n",
        "\n",
        "mas_vendido_tienda4 = max(ventas_por_producto_tienda4, key=lambda k: ventas_por_producto_tienda4[k])\n",
        "menos_vendido_tienda4 = min(ventas_por_producto_tienda4, key=lambda k: ventas_por_producto_tienda4[k])"
      ],
      "metadata": {
        "id": "qoyjqijQZHfF"
      },
      "execution_count": null,
      "outputs": []
    },
    {
      "cell_type": "code",
      "source": [
        "print(\"======================================= Productos más y menos vendidos por tienda =======================================\")\n",
        "print(\"\\n\\tTienda\\t\\tMas Vendido\\t\\t\\tCantidad\\t\\tMenos Vendido\\t\\t\\tCantidad\")\n",
        "print(\"\\t----------------------------------------------------------------------------------------------------------------\")\n",
        "print(\"\\tTienda 1\\t{}\\t\\t\\t{}\\t\\t\\t{}\\t{}\\n\\tTienda 2\\t{}\\t{}\\t\\t\\t{}\\t\\t\\t{}\\n\\tTienda 3\\t{}\\t\\t\\t{}\\t\\t\\t{}\\t\\t{}\\n\\tTienda 4\\t{}\\t\\t\\t{}\\t\\t\\t{}\\t\\t{}\\n\".format(mas_vendido_tienda1, ventas_por_producto_tienda1[mas_vendido_tienda1], menos_vendido_tienda1, ventas_por_producto_tienda1[menos_vendido_tienda1], mas_vendido_tienda2, ventas_por_producto_tienda2[mas_vendido_tienda2], menos_vendido_tienda2, ventas_por_producto_tienda2[menos_vendido_tienda2], mas_vendido_tienda3, ventas_por_producto_tienda3[mas_vendido_tienda3], menos_vendido_tienda3, ventas_por_producto_tienda3[menos_vendido_tienda3], mas_vendido_tienda4, ventas_por_producto_tienda4[mas_vendido_tienda4], menos_vendido_tienda4, ventas_por_producto_tienda4[menos_vendido_tienda4]))\n",
        "print(\"=========================================================================================================================\")\n"
      ],
      "metadata": {
        "id": "0Sw3sd4IZIGW",
        "colab": {
          "base_uri": "https://localhost:8080/"
        },
        "outputId": "0c6a3381-262e-4a57-d6ad-92a5bdad174b"
      },
      "execution_count": null,
      "outputs": [
        {
          "output_type": "stream",
          "name": "stdout",
          "text": [
            "======================================= Productos más y menos vendidos por tienda =======================================\n",
            "\n",
            "\tTienda\t\tMas Vendido\t\t\tCantidad\t\tMenos Vendido\t\t\tCantidad\n",
            "\t----------------------------------------------------------------------------------------------------------------\n",
            "\tTienda 1\tMicroondas\t\t\t60\t\t\tAuriculares con micrófono\t33\n",
            "\tTienda 2\tIniciando en programación\t65\t\t\tJuego de mesa\t\t\t32\n",
            "\tTienda 3\tKit de bancas\t\t\t57\t\t\tBloques de construcción\t\t35\n",
            "\tTienda 4\tCama box\t\t\t62\t\t\tGuitarra eléctrica\t\t33\n",
            "\n",
            "=========================================================================================================================\n"
          ]
        }
      ]
    },
    {
      "cell_type": "markdown",
      "source": [
        "# 5. Envío promedio por tienda"
      ],
      "metadata": {
        "id": "Fl0cGi3bZKqU"
      }
    },
    {
      "cell_type": "code",
      "source": [
        "costos_de_envio_tienda1 = [costo_envio for costo_envio in tienda1['Costo de envío']]\n",
        "costos_de_envio_tienda2 = [costo_envio for costo_envio in tienda2['Costo de envío']]\n",
        "costos_de_envio_tienda3 = [costo_envio for costo_envio in tienda3['Costo de envío']]\n",
        "costos_de_envio_tienda4 = [costo_envio for costo_envio in tienda4['Costo de envío']]\n",
        "\n",
        "promedio_costo_envio_tienda1 = sum(costos_de_envio_tienda1)/len(costos_de_envio_tienda1)\n",
        "promedio_costo_envio_tienda2 = sum(costos_de_envio_tienda2)/len(costos_de_envio_tienda2)\n",
        "promedio_costo_envio_tienda3 = sum(costos_de_envio_tienda3)/len(costos_de_envio_tienda3)\n",
        "promedio_costo_envio_tienda4 = sum(costos_de_envio_tienda4)/len(costos_de_envio_tienda4)\n",
        "\n",
        "costos_de_envio_por_tienda = [promedio_costo_envio_tienda1, promedio_costo_envio_tienda2, promedio_costo_envio_tienda3, promedio_costo_envio_tienda4]"
      ],
      "metadata": {
        "id": "S2JeaCykZNy9"
      },
      "execution_count": null,
      "outputs": []
    },
    {
      "cell_type": "code",
      "source": [
        "print(\"=========== Promedios Costo de Envío por Tienda ===========\")\n",
        "print(\"\\n\\tTienda\\t\\tPromedio Costo Envío\")\n",
        "print(\"\\t------------------------------------\")\n",
        "print(\"\\tTienda 1\\t\\t{:.2f}\\n\\tTienda 2\\t\\t{:.2f}\\n\\tTienda 3\\t\\t{:.2f}\\n\\tTienda 4\\t\\t{:.2f}\".format(promedio_costo_envio_tienda1, promedio_costo_envio_tienda2, promedio_costo_envio_tienda3, promedio_costo_envio_tienda4))\n",
        "print(\"\\n===========================================================\")"
      ],
      "metadata": {
        "id": "0tSdCie9ZQlt",
        "colab": {
          "base_uri": "https://localhost:8080/"
        },
        "outputId": "bb074ae6-5ce5-4711-d75d-4c3b9f86d712"
      },
      "execution_count": null,
      "outputs": [
        {
          "output_type": "stream",
          "name": "stdout",
          "text": [
            "=========== Promedios Costo de Envío por Tienda ===========\n",
            "\n",
            "\tTienda\t\tPromedio Costo Envío\n",
            "\t------------------------------------\n",
            "\tTienda 1\t\t26018.61\n",
            "\tTienda 2\t\t25216.24\n",
            "\tTienda 3\t\t24805.68\n",
            "\tTienda 4\t\t23459.46\n",
            "\n",
            "===========================================================\n"
          ]
        }
      ]
    },
    {
      "cell_type": "code",
      "source": [
        "fig, ax = plt.subplots()\n",
        "\n",
        "bar_colors = ['tab:red', 'tab:blue', 'tab:green', 'tab:purple']\n",
        "\n",
        "ax.bar(tiendas, costos_de_envio_por_tienda, color=bar_colors)\n",
        "\n",
        "ax.set_title('Promedio de costos de envío por tienda')\n",
        "\n",
        "for i, valor in enumerate(costos_de_envio_por_tienda):\n",
        "    plt.text(tiendas[i], valor + 0.3, f'{valor:.2f}', ha='center', fontsize=8)\n",
        "\n",
        "plt.show()\n"
      ],
      "metadata": {
        "colab": {
          "base_uri": "https://localhost:8080/",
          "height": 453
        },
        "id": "KQNEp9Mt-8M_",
        "outputId": "8a4970e5-9869-4e0b-d37e-3f0c3d970040"
      },
      "execution_count": null,
      "outputs": [
        {
          "output_type": "display_data",
          "data": {
            "text/plain": [
              "<Figure size 640x480 with 1 Axes>"
            ],
            "image/png": "[encoded data removed]"
          },
          "metadata": {}
        }
      ]
    },
    {
      "cell_type": "markdown",
      "source": [
        "--------------------------------------------------\n",
        "--------------------------------------------------\n",
        "--------------------------------------------------"
      ],
      "metadata": {
        "id": "8reTju0kXnul"
      }
    },
    {
      "cell_type": "markdown",
      "source": [
        "##Análisis por Rubro\n",
        "\n",
        "Saludos, Don Juan\n",
        "\n",
        "Espero este escrito lo encuentre bien. El objetivo de este es presentarle el análisis realizado basado en los datos que fueron recabados sobre las cuatro tiendas que le pertenecen. Entre muchos datos como fueron el producto, la categoría, la calificación por parte del cliente hacia la tienda, el costo de envío, etc, se tomaron en cuenta los 5 más relevantes para la toma de una decisión tan importante como la venta de una de sus sucursales.\n",
        "\n",
        "Dicho informe se detalla a continuación\n",
        "\n",
        "La información recolectada de las 4 tiendas es la siguiente:\n",
        "\n",
        "* Producto\n",
        "* Categoría del Producto\n",
        "* Precio\n",
        "*\tCosto de envío\n",
        "*\tFecha de Compra\n",
        "*\tVendedor\n",
        "*\tLugar de Compra\n",
        "*\tCalificación\n",
        "*\tMétodo de pago\n",
        "*\tCantidad de cuotas\n",
        "* latitud\n",
        "*\tlongitud\n",
        "\n",
        "De estas doce variables se decidió que las mas relevantes son las siguientes cinco:\n",
        "\n",
        "* Producto\n",
        "* Categoría del Producto\n",
        "* Precio\n",
        "*\tCosto de envío\n",
        "*\tCalificación\n",
        "\n",
        "###Producto y Categoría\n",
        "Respecto a el producto y la categoría, se contabilizó en cada producto vendido con el fin de saber cuales eran los mas vendidos por cada tienda. De la misma manera, de estos productos, se obtuvo a qué categoría pertenece para así llegar a las categorías mas vendidas por tienda. Los resultados fueron los siguientes:\n",
        "\n",
        " #### Productos más y menos vendidos por tienda\n",
        "\n",
        "\tTienda\t\tMas Vendido\t\t\t    Cantidad\t\tMenos Vendido\t\t\tCantidad\n",
        "\t----------------------------------------------------------------------------------------------------------------\n",
        "\tTienda 1\tMicroondas\t\t\t       60\t\t\tAuriculares con micrófono\t33\n",
        "\tTienda 2\tIniciando en programación\t65\t\t\tJuego de mesa\t\t\t    32\n",
        "\tTienda 3\tKit de bancas\t\t\t    57\t\t\tBloques de construcción      35\n",
        "\tTienda 4\tCama box\t\t\t         62\t\t\tGuitarra eléctrica\t\t   33\n",
        "\n",
        " Respecto a estos datos, podemos afirmar que la tienda 2 es la que mas productos iguales vendió, siendo este el libro \"Iniciando en programación\", seguido después por la tienda 1, que su mayor venta fue el electrodoméstico \"Microondas\". De la misma manera podemos constatar que en la tienda 3 y 4, los artículos mas vendidos coinciden con la categoría mas vendida, siendo estos \"Muebles\".\n",
        "\n",
        " Conforme a estos resultados, en esta variable los puestos quedan de esta manera:\n",
        "\n",
        "\tTienda\t\t  Lugar       Puntaje\n",
        "\t------------------------------------\n",
        "\tTienda 1\t\t3er Lugar   5 Puntos\n",
        "\tTienda 2\t\t1er Lugar   10 Puntos\n",
        "\tTienda 3\t\t4to Lugar   2.5 Puntos\n",
        "\tTienda 4\t\t2do Lugar   7.5 Puntos\n",
        "\n",
        "\tTienda\t\t  Lugar       Puntaje\n",
        "\t------------------------------------\n",
        "\tTienda 1\t\t3er Lugar   5 Puntos\n",
        "\tTienda 2\t\t1er Lugar   10 Puntos\n",
        "\tTienda 3\t\t4to Lugar   2.5 Puntos\n",
        "\tTienda 4\t\t2do Lugar   7.5 Puntos\n",
        "\n",
        "\n",
        "\n",
        "\n",
        "  ### Categorías mas populares por tienda\n",
        "\n",
        "\tTienda\t\tCategoría\t\tTotal Ventas\n",
        "\t----------------------------------------------------\n",
        "\tTienda 1\tMuebles\t\t\t\t 465\n",
        "\tTienda 2\tMuebles\t\t\t\t 442\n",
        "\tTienda 3\tMuebles\t\t\t\t 499\n",
        "\tTienda 4\tMuebles\t\t\t\t 480\n",
        "\n",
        "\n",
        "  Como podemos observar, la categoría más vendida en las cuatro tiendas es \"Muebles\", siendo la tienda 3 la que mas muebles vendió, seguida por la tienda 4, en tercer lugar la tienda 1, y al final, la tienda 2.\n",
        "\n",
        "  A pesar de esto, en tienda 1 y en tienda 2, los productos mas vendidos no fueron de esta categoría.\n",
        "\n",
        "\n",
        "\tTienda\t\t  Lugar       Puntaje\n",
        "\t------------------------------------\n",
        "\tTienda 1\t\t3er Lugar   5 Puntos\n",
        "\tTienda 2\t\t4to Lugar   2.5 Puntos\n",
        "\tTienda 3\t\t1er Lugar   10 Puntos\n",
        "\tTienda 4\t\t2do Lugar   7.5 Puntos\n",
        "\n",
        "\tTienda\t\t  Lugar       Puntaje Acumulado\n",
        "\t------------------------------------\n",
        "\tTienda 1\t\t4to Lugar   10 Puntos\n",
        "\tTienda 2\t\t3er Lugar   12.5 Puntos\n",
        "\tTienda 3\t\t2do Lugar   12.5 Puntos\n",
        "\tTienda 4\t\t1er Lugar   15 Puntos\n",
        "\n",
        "  ### Mayor Capital Obtenido\n",
        "\n",
        "  En esta sección, se sumó el precio de todos los artículos vendidos obteniendo los siguientes resultados:\n",
        "\n",
        "\tTienda 1:\t1150880400.0\n",
        "\tTienda 2:\t1116343500.0\n",
        "\tTienda 3:\t1098019600.0\n",
        "\tTienda 4:\t1038375700.0\n",
        "    Venta total:\t4403619200.0\n",
        "\n",
        "\n",
        "![image.png](data:image/png;base64,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)-----------------\n",
        "#Gráfica costos\n",
        "-----------------\n",
        "\n",
        "  \n",
        "Como podemos ver en los resultados y en la gráfica, la tienda con mayor ventas fue la tienda 1, mientras que la de menor ventas fue la tienda 4, de este modo el puntaje obtenido por cada tienda es el siguiente:\n",
        "\n",
        "\tTienda\t\t  Lugar       Puntaje\n",
        "\t------------------------------------\n",
        "\tTienda 1\t\t1er Lugar   10 Puntos\n",
        "\tTienda 2\t\t2do Lugar   7.5 Puntos\n",
        "\tTienda 3\t\t3er Lugar   5 Puntos\n",
        "\tTienda 4\t\t4to Lugar   2.5 Puntos\n",
        "\n",
        "\tTienda\t\t  Lugar       Puntaje Acumulado\n",
        "\t------------------------------------\n",
        "\tTienda 1\t\t2do Lugar   20 Puntos\n",
        "\tTienda 2\t\t1er Lugar   20 Puntos\n",
        "\tTienda 3\t\t4to Lugar   17.5 Puntos\n",
        "\tTienda 4\t\t3er Lugar   17.5 Puntos\n",
        "\n",
        "\n",
        "\n",
        "### Costo de Envío\n",
        "Se realizó un promedio de costo de envío por tienda, para saber cuál tienda gasta mas dinero en envío, por lo cuál, la que menos dinero gasta en esto, es la que mejor desempeño obtendrá en este rubro:\n",
        "\n",
        "\n",
        "\tTienda\t\tPromedio Costo Envío\n",
        "\t------------------------------------\n",
        "\tTienda 1\t\t26018.61\n",
        "\tTienda 2\t\t25216.24\n",
        "\tTienda 3\t\t24805.68\n",
        "\tTienda 4\t\t23459.46\n",
        "\n",
        "![image.png](data:image/png;base64,iVBORw0KGgoAAAANSUhEUgAAAjkAAAG0CAIAAABfT6GhAAAgAElEQVR4Aey9CXwURfr/3yQwk4scJuEKJBAIKEQCAhFQiMopHiCrsKAQUUEEFA9AXcR4cQkIGg4ROdRVWHVh+StZFBD5eYGyBAQDcoqB5RJIQO4k9edrrWU703mqeqoyne5+8vK1W1Ofp6qr3jN8PqmZTqIR/EICSAAJIAEkULkJaJV7ebg6JIAEkAASQAIEswpfBEgACSABJFDZCWBWVfZnCNeHBJAAEkACmFX4GkACSAAJIIHKTgCzqrI/Q7g+JIAEkAASwKzC1wASQAJIAAlUdgKYVZX9GcL1IQEkgASQAGYVvgaQABJAAkigshPArKrszxCuDwnYmkBZWdnUqVOXLFli613g4i0ngFll+VPgogXk5ORo2h8vuZSUlOzsbFX7vzxzTk6OqtnsNc/ChQs1Tdu3b18lXPbcuXMjIyMLCgoq4dr8l1ShJPft26dp2sKFC/2viz1cAn8YB7cUCyobAfrvSvvty+v1pqWlDR8+/PDhw5VtnWw9rsqq8ePHL1u2jO29QhsV6rAyKz9w4EBMTMzf//53mUkqbqz/c1ShJDGrZJ5KzCoZehaPpf+uXnjhhXfeeWfevHnZ2dkhISENGjQ4c+aMxSsr5/I+WXX+/PmLFy+WU2u6u7KdqyIjIxWeGmEcFeqw8KVh9fbbbx8yZAhcY6Hq/xyVlJScO3eurKysIlaFWSVDFbNKhp7FY6lDfffdd2wdjz/+uKZp7733HuthjV9//ZW1rWr4ZJXaZWBWVc73ANU+y4HNdunSpQsXLviP9c8q/xqFPZhVMjAxq2ToWTzWP6s+/vhjTdPGjx9PCMnOzo6MjNy9e/fNN98cFRXVs2dPQsivv/76+OOP161b1+PxNG7ceMqUKfpvITVNGz58+Pvvv3/VVVeFhYW1bdv2+++/J4S8/vrrDRs29Hq9WVlZPoa4fv36bt26RUdHh4eHd+zY8csvv9RD+eKLL1q3bu31elNTU19//XWfrPL5vGrPnj133nlnXFxceHj4tdde+/HHH+un8mmfP3/+0UcfTUhIiIqKuu222woLC32y6sCBA4MGDapRo4bH42natOn8+fN9ZvB5+M4777Rp0yY8PDw2NrZDhw6ffPIJK5g1a1bTpk09Hk/t2rWHDRt28uRJJu3cubN37941a9b0er1JSUl9+/YtKioihNA3Ztn/sgPWpk2bunfvXr169cjIyJtuuumbb75hU128ePG5555r1KiR1+u94oorrrvuuk8//ZSpPo1t27bdeOONYWFhSUlJL7744vz5830+r8rLy7v++usjIiKioqJ69Oixbds2nxn0D0+ePDly5Ej6qmjYsOGkSZNKS0tpAbXXKVOmzJ07NzU11ePxtG7d+ttvv6XqlClTNE376aef9LM99dRT1apVO3HiBH0RpqSkMBV++bEy2sjKymrWrNnGjRvbtWsXFhZWv379OXPm6GuOHDly33331ahRw+v1Nm/efNGiRUxly54+fXpqampISEh+fj5TaYM9O7RBnyP/EypAkv4TO3DgQM+ePSMjIxMSEp544omSkhJ2oZMnT2ZnZ0dHR8fExAwcODA/P1//edWWLVuys7MbNGjg9Xpr1qw5aNCgX375hY3Fhg8BzCofIHZ66J9Vr776qqZpl1OB2oTX623YsGF2dvbrr7/+9ttvl5WV3XTTTVWqVHnggQdmzpx52223aZr26KOPsj1rmta8efN69epN+u0rJiYmOTl55syZTZs2nTZt2jPPPOPxeG688UZWv2bNGo/H065du2nTpk2fPr158+Yej2fDhg204Pvvvw8PD09OTp44ceKLL75Ys2bN5s2bX04UNlyfVYcPH65Zs2b16tXHjh37yiuvZGRkhISELF26lBX7NO655x5N0/r37z9z5szevXvTmdm9FYcPH65bt269evVeeOGFOXPm3H777ZqmTZ8+3WcS9vC5557TNK19+/ZTpkx59dVX+/fv/+STT1KV5mvnzp1zc3NHjBgRGhrapk0b+tblhQsXGjRoUKdOnZdeeunNN998/vnn27RpQ437nXfe8Xq9HTp0eOe3r6+//poQsm3btsjIyNq1a7/44ouTJk2iJrV+/Xp6ob/97W9VqlQZPHjwvHnzpk2b1q9fv0mTJrEV6huHDh1KTEyMi4t77rnnpkyZkpaWRrfPvo14++23q1Sp0r1799zc3MmTJ9evXz82Npap+qkIIWfOnGnevHl8fPzf/va3119/feDAgVWqVBk5ciQto6bfsmXLRo0aTZ48+eWXX05ISKhbty4lsH///ipVqrz88sv6OVNTU2+55Rbak52dzbKK+/LTT0IIycrKqlOnTo0aNUaMGPHaa69df/31mqax7znOnj171VVXVatW7bHHHnvttdc6dOigadqMGTP0y27atGlqauqkSZOmT5++f/9+n/kNnyOfrIJJZmdnh4WFNWvW7L777pszZ85f/vIXTdNmz55NL1RWVtaxY8eQkJBhw4bl5ubedNNN9Gli91ZMnTq1Q4cOL7zwwhtvvDFy5Mjw8PDMzEz9944+C3b5wz+Mw+Ug7Lh9+u9q9erVx44dKywsXLJkSXx8fHh4+IEDB2hWaZr21FNPsa3961//0jTtpZdeYj133nlnlSpVdu/eTXs0TfN6vczU5s6dezn5atWqderUKVrw9NNPs+/fy8rK0tLSunXrxv51nT17tkGDBl26dKHFvXr1CgsLYx5RUFAQGhpaXlY9+uijmqZ98cUXdOzp06cbNGhQv3599g0+7af/u3nzZk3Thg0bxjr79++vP1fdf//9tWvX1n+X+te//jUmJubs2bNsCGvs2rUrJCTkjjvu0F+Lburo0aMej6dr165MmjlzpqZpCxYsIITQb5M/+OADNpW+4f/+Uq9evTwez549e2jZf//73+rVq3fs2JE+zMjIYBavn8e/TVmx7wmOHj0aExPDnpfTp0/HxsYOHjyYDTx8+HBMTIy+h0mEkBdffDEyMnLnzp2s86mnngoNDf35558vv4poVsXHx9NzEiFk+fLlmqZ99NFHtL5du3atWrViY7/99ltN095++23ao88q7suPTUIbWVlZmqZNmzaNPrxw4UKLFi1q1KhBY3LGjBmaprG7Ni5evNiuXbuoqCj6WqXLjo6OPnr0qM+0+of+z5E+q7gks7OzNU174YUX2JwtW7ZkNOh+WZCXlJTQQGVZ5fNqXLx4saZp/+///T82Gzb0BDCr9DRs1qb/rvRvZaSkpKxcuZJug/5DYlFBCBkyZEhoaCgLHkLIN998o2labm4uHaJpWo8ePRgFGgnDhw9nPfSf35o1awghmzZt0jTtrbfeOqb7euCBB7xeb2lpaUlJSXh4+F//+lc2lhDSo0eP8rKqcePGmZmZ+uKJEydqmrZ161Z9J21PmDBB07QdO3YwiVokPVeVlZXFxsYOGTJEt65jlJXPW5R0OH0jy/89IkLIe++9p2laXl4eu9CFCxeio6P/8pe/EEL27t2radoDDzxgeDOLjw+WlJRERET06dOHTUUIefDBB0NCQoqLi+kxon79+vrM0Ffq240bN27btq2+Z9iwYSyrli5dqmnaZ599pt9+165dGzVqpB/C2s2bN+/evbu+ePXq1SwGqOnrvy04ceKEpmmvvvoqnYFmBvt254knnvB6vXRHPu8Bcl9+bEm0kZWVVbVqVf3nrHPmzNE0jb5x2rVr11q1arHvIQgh1OtpiNJlDxo0yGdOn4c+zxEhRJ9VXJL0n5g+Dh955JG4uDh6lSFDhlStWvX06dPsou+//77+PUDWf+7cuWPHjtE1s6MhU7FBCWBW2fiVQP9dzZo1a9WqVWvXri0oKND/083Ozq5ataq+p1u3bvXq1dNvuKioSNO0UaNG/e/VoGlDhw5lBfQfj/6dqLVr12qa9uGHHxJC/vGPf+hjUt8+ceLEoUOHNE0bN24cm40Q8thjj5WXVV6vd8CAAfpimouGn1pRi7906RKrLy4uZueqI0eO6Bejbxu+qTh06NCQkBDDz95pXrKTEL1cixYtWrduTdv0Zpbw8PCuXbvOnDmTflhFJR8fNARCjZ5+mLRu3brY2NjLeNPT00eNGrVlyxa2O5+GPyv63i89EE+ePFm/ZdaOjo72mYc+DA8PZzX6xiuvvMLOVfrXAP007rnnnqPDDx48GBISQj8iLSsrS05O7tWrF7uQ/lzFffmxUbSRlZWVnJys71yzZo2maYsXL76cTE2aNOnQoYNepd9azZw5ky1bf+LRV7K2z3Pkk1VckvQ9QDbb5Yb+E1n//W7ZskWfVcePH3/kkUdq1Kihx/7888/rJ8Q2I4BZxVDYr0GzSn8foH4P9INffY//Px7/rNKfomhWTZkyhU1Cs4q+60W/jZ0yZcoqv6+LFy8aWnNwsope+p577vFb16ojR46wvbCGTFYRQr7//vsXX3zx8gcPISEhSUlJhYWFdGYfHzQEos8qQsjx48cXLFjw17/+NTY2NjQ0dN68eWyR+gacVTRf33nnHZ/tr127Vj8Ja3u93i5duvgUr1q1ip7I/V8DNKtydD92nZWVlZGRQQj5+uuvWZbQ+a3NKv1Ll+1X3/B5jnyyikvS/5+Yqazq1KlTeHj4s88+u3Tp0k8//XTlypXs+y39IrFNCWBW2fiVYDar/N+EWb9+vc97gOJZRd92mzt3riFB+fcAJ02aFNh7gCUlJdWrV+/Xr5/hwvw7zb4HGBMTQ98D9Jnqq6++0jRt7NixtD8qKord/kcIMXwPkMYke8eMTXj69OmWLVsmJSWxHn0Dfg+QvtGkv49RP9a/3bRp03bt2vn30x6RrJo9ezZ9S3bkyJERERH6d+30WcV9+fmswex7gEuWLGEfpBku22d+QojPc+STVVyScFbB7wHSt1L1p6idO3diVvk/R6wHs4qhsF/DbFbRd9UmTJjAttq3b1+feyvEs6q0tLRhw4ZpaWn6d+QJIezt+wDuraD3y9F761NTU8u7t4Le1KD/EMXn3op7773X4/H4fNbFFsa2Txvceyu6d+/O7h+hvkzvrSguLta/D3nq1KmQkBD2hmrNmjXpzwmwy/Xq1Ut/68rhw4ejo6PZvRX6O0EIIXfddVdCQgIbq2/A91YUFxdHR0dnZWX5/Jx1edun90CyjznphU6ePEm3Zmj6PpZ65MiR0NDQnJycOnXq+Hwgp88q7stPv0f6AZ7/vRWJiYn6eyvYjxJeunTpuuuu87m3gnuu8n+O6L8p+m4qlyScVXS/5d1bQd+1Zm+lXv6HQz901B9YfYC4/CFmlY1fAGazqrS09MYbb6xSpcqQIUNmzZrVs2dP/3vWxbPqspusXbs2LCzs8ocKl33qjTfeyMnJ6dix46233kqZbtmyhaqTJk166aWXRO5Zj4mJGTdu3PTp01u0aFGlShXDj5fo5P369dM07e677541a5bhPespKSkREREjR46cO3fuxIkT77rrLvaht/9TPm7cOHrP+tSpU3NzcwcOHMjun6Tv6tCPox5++GH9PevLli1LSkp69NFHZ8+e/dprr7Vp06ZatWrsR6Z69OgRGRk5bdq0xYsX0xvT6T3rSUlJ48ePnzx5cmpqqtfrZfes16hRo0+fPpMnT543b96DDz5YpUqVhx9+2H+pl++R+e9//xsfHw/cs/7uu++GhISkp6e/9NJLc+fOHTt2bIsWLfTPrH7aM2fOXHPNNVWrVn3ggQfmzJkzdepUasHHjh1jH/z4mL5PVhFCOnfuXL16dU3T/vnPf+on12cV9+WnH6i/Z/3hhx/Ozc2l96xffpnRMnrPusfjeeKJJ3Jzc+lNg+zGBMOI9Zmf3uzj8xzps4oQApOEs6q0tPS6666j96zPnDnT/571jh07RkREjB07dvbs2b169crIyPAH679m1/ZgVtn4qTebVYSQ06dPP/bYY3Xq1KlWrVpaWprhzwIzIv7/4PWfV9Gy/Pz83r17x8fHe73elJSUPn360LsEqbpu3bpWrVp5PB7xnwWOjY0NCwvLzMw0vKuCre3cuXOPPPJIfHx8ZGSk4c8CHzlyZPjw4fXq1atWrVqtWrU6derEbI5Nom8sWLCgZcuWXq83Li4uKytr1apVTJ05c+aVV15ZrVq1mjVrPvTQQ+xngffu3Xvfffdd/uHZsLCwK6644sYbb1y9ejUbtWPHjo4dO9I7F9ibgZs2berWrVtUVFRERMSNN97IzpGEkJdeeikzMzM2NjY8PPzy5caPH+9zMGIz0w/JsrKygJ8FXrt2bbdu3WJiYsLCwho2bHjvvfdu3LhRP4O+ffr06aeffrpRo0YejychIaF9+/ZTp06lV/d/Dfh/XkUImTdv3uUzUPXq1c+dO6efWZ9V3JeffiDNKv3PAqekpND7JljZkSNHBg0alJCQ4PF4rr76anYveHkRywayhv9z5JNV9Buy8kjCWUU/gBwwYAD9WeABAwb4/CzwgQMH7rjjjtjY2JiYmLvuuuu///0vZhV7avwbmFX+TLAHCSAB6wnQ31th/TpwBZWDAGZV5XgecBVIAAn8mQBm1Z95uP0RZpXbXwG4fyRQOQlgVlXO58WqVWFWWUUer4sEkABEALMKouM+DbPKfc857hgJIAEkYDcCmFV2e8ZwvUgACSAB9xHArHLfc447RgJIAAnYjQBmld2eMVwvEkACSMB9BOydVaWlpYWFhUVFRcX4hQSQABJAAnYmUFRUVFhYqP/TEPpEtndW0b9crv+N+thGAkgACSAB+xJgf6lAH1T/99tSfB7b6yH9kxaFhYV2/mYC144EkAASQALF9Oyh/yNw+jyyd1bR31Xs/ycV9DvENhJAAkgACVR+ArCfY1ZV/mcQV4gEkAAScD4BzCrnP8e4QySABJCA3QlgVtn9GcT1IwEkgAScTwCzyvnPMe4QCSABJGB3AphVdn8Gcf1IAAkgAecTwKxy/nOMO0QCSAAJ2J0AZlWFP4Pnzp3r2bNnWlpa8+bNO3fuvGvXLkJIWVlZTk5OWlpaenr6DTfcQBdx5MiRbt26NWrUqFmzZuvWraOd48ePb9y4cZUqVZYtW8bWumHDhmuvvbZFixZXXnnl5MmTWT9rnDhxon///mlpaU2bNn3yySdp/1/+8pfatWtrmsb+zjqrxwYSQAJIoDITwKyq8Gfn3LlzK1asuBxOhJDc3NysrCxCyIwZM+64444LFy4QQg4dOkQXMWjQoJycHELIt99+m5SUdPHiRULIhg0b9uzZk5WVpc+qjIyM5cuXE0KOHz+emJj4ww8/+GyjV69eU6ZMoZ1s/lWrVh05cgSzyocVPkQCSKDyE8CsCupz9N1336WkpBBCkpKSfvzxR59rR0ZGslxp06bNqlWrWIFPVrVo0eKtt94ihPz8889JSUlsFK3ftWtX3bp1y/3FWXiuYlixgQSQgE0IYFYF9Ym65557HnnkkeLi4qpVq7788suZv30tWbKEEPLLL794PB62mrvuumv+/PnsoU9W5efnJycn16tXLywsjIYWqySELF++vG3btkOGDLnmmmu6dOmyadMmvYrnKj0NbCMBJGALAphVwXuaxo8f37Zt2zNnzhw/flzTtOeff54Qsm/fvtq1a2/evNlUVvXt2/fdd98lhOzZs6du3bo+7wH+85//DAkJ+eyzzwgheXl5derUoW8n0q1iVgXvKccrIQEkoIgAZpUikLxppkyZ0qpVK3ZTQ1RU1J49e+igO++8c968eYSQiIgI9m4e8B7gsWPH9CewO++884033tBf/7vvvqtXrx7rSUhIoDd00B7MKkYGG0gACdiFAGZVMJ6padOmXXPNNSdOnGAXGzx48KxZs+jNEcnJyRs2bLh8xsrOzmb3VvgchvTvAZaUlMTFxa1Zs4YQcuzYsXr16n399ddsZnqTYbNmzbZs2UJvzYiPjz9//jwrwKxiKLCBBJCAXQhgVlX4M0V/lX1qamrGb1+ZmZn006nbbrut2W9fNLQIIYcPH+7SpUujRo2aNm1K38EjhLz44otJSUkejyc+Pj4pKeno0aOEkFWrVl1zzTXNmze/6qqrpk2bRvcwZ86ccePG0fbGjRszMzOvvvrq1q1bf/7557SzR48eSUlJmqbVqVOH3o5Y4ZvHCyABJIAEVBDArOJQLGhyJf5XHgEOO5SRABJAAooIYFZxQJZn09hf0ORKDjuUkQASQAKKCGBWcUBiJgEEOOxQRgJIAAkoIoBZxQEJODVKHHZBlA1/kVVWVlb9+vXpx4SvvPIKXc69995Lf99V+/btv/32W9o5f/789PT00NDQ6dOn61c9a9asK6+8Mj09vXnz5ufOndNLBw8e7Nq1a+PGja+++urevXvTzxFZwYIFCzRN0/+qESZhAwkggQAIYFZxoGEgAQQ47IIoG/4iK/3Nk2wty5cvv3TpEiHko48+or9DhBCyefPmgoKCAQMG6LPqX//6V/v27YuKigghR48eLSkpYZPQG2G++OIL2jNq1KjL93Aydd++fe3atWvbti1mFWOCDSQgSQCzigMQcGqUOOwsktkvsjLMKraoY8eOVa1aleYW7czOztZn1XXXXffJJ5+weqDxwQcfsPsqS0tLO3XqtHHjRvjqwGwoIQEk4E8As8qfyZ96MJAAAn8iVWke0F9kRQjJyspq0qRJenp6nz592E9es2U+88wzt99+O3tIf75Nn1VxcXHjx49v3759q1atXn31VX2lvl1SUpKVlcXeY5wyZcqzzz5Lr47nKj0obCMBGQKYVRx6gFOjxGFnhcx+kRX9xb70J6Nzc3Ovuuoq/XLeeeedxo0bHz58WN/pc66qXr36Aw88UFJScuzYsaZNm3700Uf6YtouKysbMmRIr1696G8K3rp1a9u2belvtMJzlT8u7EECARPArOKgw0ACCHDYBV32+UVW+ut7vd5ffvmF9ixZsqRRo0b79+/XF/ifq5o1a0Z/OQghZNSoUWPHjvWpv/wz3SNGjLj55pvp33YhhMyePbtWrVopv315vd7ExMTZs2f7j8IeJIAEzBLArOIQA5waJQ674Mo+v8jq0qVL7Nj04YcfJicn0+X84x//aNSo0U8//eS/Op9z1fjx40ePHk0IOXv2bOvWrd9//32fIQ8//HD37t31v79KX+Cwc5XhnZZ0v2vWrAkJCWFvn+7cufOGG27IyMho0qTJ448/Tk+cpaWlI0aMSE1NbdiwYW5uLh2Yk5OTkJBAb9Ts37+/nh5tnz9/fvjw4Y0aNUpPT7/77rtp54oVK1q2bJmRkdGsWbNFixb5j8IeRxKQzaoJEya0bt06KioqMTGxZ8+eO3bsYJiysrI03deDDz7IpP379/fo0SM8PDwxMfHyd6z6z7fXrl3bsmVLj8fTsGHDhQsXsiGEkJkzZ6akpHi93szMTPoL9PSqfxvem3+9YQ8GEkDAkJglnf6/yOrXX39t1aoVvd38pptu2rx5M11Y1apV69atS/0xIyODHrYWLlyYlJQUERERExOTlJRE/4rKuXPnBg4ceNVVVzVt2pT98ir2i6y+/PJLTdOuvPJKOlWvXr18Nu68rPL/k6GEkKKiojZt2tx6660sq3r27Ek/3jt37lx6evqKFSsIIW+99dZNN91UUlJy/Pjx5OTkbdu2XcaVk5MzcuRIH276h48++uiIESPo3ymlv9a5rKwsLi6O/q7Lffv2eb3eU6dO6Ydg26kEYD/XuNvu1q3bwoULt23btnnz5h49eiQnJ//66690VFZW1uDBgw/9/lVcXEz7S0pK0tPTO3funJ+fn5eXl5CQ8PTTT1Np7969ERERjz/+eEFBQW5ubmho6MqVK6m0ZMkSj8ezYMGCH374YfDgwbGxsUeOHKFSef8L7628UT79gFOj5MMq4IcpT36M/5VHIGCqFTeQ3WlJCLnnnnuWL1+uP5L26tXrhRdeIIScOHGiSZMmNPh79OixePFiuqTRo0fTN1ThrPr111+rV6/OfIOOLSsru+KKK9atW0cI2bJlS506ddgbsBW3X5y5MhCA/ZyfVfo9HD16VNM0+jKi90EZftOUl5cXEhLC3p+ZM2dOdHQ0fcGNGTOmWbNmbM6+fft269aNPszMzBw+fDhtl5aW1qlTZ+LEiazSsAHvzXCIfycGEkDAH1dgPeXZNPanPPlxYEgrdBS70/KDDz4YOHCgz0d9P/3009VXX127du2wsLDx48fTlaSnp7O/BjBr1qwBAwZc7s/JyalTp07z5s1vvPFG9sua2cq3bNmSkpLy5JNPtmrV6vrrr1+9ejWVVq1aFR8fn5ycXL16df3fzmYDseFIArCfm8uqXbt2aZq2detWSiorKyshISE+Pr5Zs2ZPPfXUmTNnaP+4ceMyMjIYzb1792qaRr/56tChgz7eFixYEB0dTQi5cOFCaGio/g7ggQMH+txwTCc8f/588e9f9H0hn+/L2HUFG4BToyTIkFuGmQQQ4NILcgG70/LQoUMZGRn0T7Lpz1VjxoyZMGECIeTIkSNNmzb99NNPCSGGWXXo0CF6z+SXX36ZmJjo8yHif/7zH03T6J+93rRpU3x8/OHDhy9dupSVlUW/If72229r1ap17NixIBPAy1lCQFlWlZaW3nLLLddddx3bxty5c1euXPn999///e9/T0pKuuOOO6g0ePDgrl27srIzZ85ompaXl0cISUtLo69yqq5YsULTtLNnzx48eFDTNPZ9GSFk9OjR9I9rsHloIycnR/cZ2f81MasqLlN94Af8EHBqlAKmWhED9XdafvzxxzVq1KA3PUZGRsbFxf3tb38jhERGRh48eJBefdSoUbTT8D1A/Qq7du364Ycf6nuOHTsWEhLCfl1I69atV61a9d1336WlpbGy1q1b0yxkPdhwKgFlWTV06NCUlJTCwkJDUmvWrNE0bffu3YSQCs0qPFdVXDL5z2z4XAfQiYEEEAiAZwUN8bnTUn8V/bnq6quvnj9//uUb/entLe+99/1jiDMAACAASURBVB4hZOHChfp7K77//ntCCLOLnTt31qhR48cff9TPSQjp0qULvTVj79698fHxBw4cOHz4cFRUVEFBASFk165dcXFx/j974DMJPnQGATVZNXz48Lp16+7du7c8KL/++qumafRGiQp9D1C/AHhv+kqg7W/Q2MMIANxMSYBTo2SKZMUV+99pqb+WPqs2bdrUvn375s2bX3nllWPGjKF38ZWUlAwbNqxBgwapqakzZsygYwcOHNisWbOMjIxrrrnmgw8+oJ3Lly+///77aXvPnj033HADvZmTnbree+892pOenv7uu+/ql4FtBxOA/Zz/eVVZWdnw4cPr1Kmzc+dOABO9wZfeaUrvrWB38c2dOzc6Opr+kMqYMWPS09PZPP369dPfWzFixAgqlZaWJiUl4b0VLDOsarBnSrKBgQQQkGRLh6cvSsf/yiOghDBOUtEEZLPqoYceiomJ+fzzz3+/Nf3Q2bNnL9/Junv37hdeeGHjxo379u1bvnx5ampqx44d6WboPetdu3bdvHnzypUrExMTfe5ZHz169Pbt22fNmuVzz7rX6120aFFBQcGQIUNiY2PZnYTlMYL3Vt4on36rYsAW1/VhFfBDwKlRCpiqfmB5No396Yv++OZYTwzblY0A7Of8c5XPjQyaptEf4P355587dux4xRVXeL3eRo0ajR49Wn+Pw08//XTzzTeHh4cnJCQ88cQTPj8L3KJFC4/Hk5qa6vOzwLm5ucnJyR6PJzMzc/369VyU8N64w2mBLTLDqkUKMuSWYSABBLj0RAowkwACIgCxxnICsJ/zs8ryDQALgPcGDNRLVsWALa6rByXTBpwaJRmwbCzg1CgxStiozARgP8esIrbIDKsWqeqVjYEEEFACGQMJIKCEME5S0QQwqziErYoBW1yXw05YBpwaJWGKUCHg1ChB4FCrNAQwqzhPhS0yw6pFctgJyxhIAAFhilAhBhJAAAKHWqUhgFnFeSqsigFbXJfDTlgGnBolYYpQIeDUKEHgUKs0BDCrOE+FLTLDqkVy2AnLGEgAAWGKUCEGEkAAAodapSGAWcV5KqyKAVtcl8NOWAacGiVhilAh4NQoQeBQqzQEMKs4T4UtMsOqRXLYCcsYSAABYYpQIQYSQAACF1zN8I8v33vvvVdffXVGRkbr1q3ZH0ah6/L5i8zZ2dl16tShf/xz1KhRtGbnzp2dO3du3rx506ZNlyxZUt6GFixYoGka+1sWl38zVk5OTlpaWnp6+g033FDeqGD2Y1ZxaFsVA7a4LoedsAw4NUrCFKFCwKlRgsAFVzt37pz/H1+mf3WFELJp06a4uLjS0lK6KP+/yKz/rYxs4e3bt583bx4h5OjRo8nJyQcOHGASa+zbt69du3Zt27ZlWTVjxow77riD/llB+heZWbFVDcwqDnlbZIZVi+SwE5YxkAACwhShQgwkgAAEzjpN/8eX6SrWrl2rzyr/v8hsmFX6P9Fy2223TZs2zWdPpaWlnTp12rhxY1ZWFsuqpKQk/1977zMwyA8xqzjArYoBW1yXw05YBpwaJWGKUCHg1ChB4KzT2B9fJoQ8+eSTqampcXFx7K8nG/5F5uzs7Pr161999dW33HJLfn4+XXvHjh0nT55MCNmzZ098fPzDDz/ss6cpU6Y8++yz9C+506wqLi6uWrXqyy+/nPnbF/DOoc9UFfoQs4qD1xaZYdUiOeyEZQwkgIAwRagQAwkgAIGzSGN/fFl//VWrVrVu3frChQvl/UXmAwcO0HcIly5dWqtWrdOnTxNC9u3b17t374yMjNtvv71Pnz6PPfaYfs6tW7e2bduW/nVmdq46fvy4pmnPP/88HV67du3NmzfrR1nSxqziYLcqBmxxXQ47YRlwapSEKUKFgFOjBIGzQtP/8WWf6zdp0mTjxo3l/UVmfXHjxo03btyo7yGEdOvW7c0339R3zp49u1atWvSPO3u93sTExNmzZxNCoqKi9uzZQyvvvPNO+omXfmDw25hVHOa2yAyrFslhJyxjIAEEhClChRhIAAEIXNA1nz++fPHixV27dtFVbNiwIS4u7sSJE/pF6T+jYn9n+ZtvvomPjy8qKiKEHD58mB62Vq5cWa9ePfo3m/QzsDY7V9G/3j5r1ixCyPHjx5OTkzds2MDKrGpgVnHIWxUDtrguh52wDDg1SsIUoULAqVGCwAVX8//jy2fOnGnfvj3968nt27dfs2aNz4r0WdWpU6f09PSMjIy2bduyT7bmzZvXsGHDxo0b33DDDVu3bqXD9X98mU2oz6pffvnltttua/bbFw0tVmZVA7OKQ94WmWHVIjnshGUMJICAMEWoEAMJIACBM6PNfHAN/lceATMgjWsxq4y5sF6rYsAW12WUJBuAU6MkyZYOB5waJSWECSHl2TT2z3zQ9zgYAHPMKg40W2SGVYvksBOWMZAAAsIUoUIMJIAABM6MhpkEEDAD0rgWs8qYC+u1KgZscV1GSbIBODVKkmzpcMCpUVJCGM9VQFDhuYrzGoNzmDP4d9kWmWHVIn+HJPv/GEgAAVm4v43HQAIIKCGMWYVZFfgLCbOqojMs8OfmzyMBp0bpz6gCfAQ4NUoBMvUbBpu1y1U/WqY7YD/XTM9XmQbAexNcaUXbva3nF2TILcNAAghw6YkUYCABBEQAitS4PI3g7YsAhGtgP8esIrbOkopePPzaElcBp0ZJHCNQCTg1SgA3UxJs1i5XTZE0LMasMsTyR2dF272t5/8Dk1wLAwkgIIf2f6MxkAACSgjj51VwGMtDxqziMLR1llT04jnshGXAqVESpggVAk6NEgTOjAabtctVMyCNazGrjLmw3oq2e1vPzyhJNjCQAAKSbOlwDCSAgBLCeK6Cw1geMmYVh6Gts6SiF89hJywDTo2SMEWoEHBqlCBwZjTYrF2umgFpXItZZcyF9Va03dt6fkZJsoGBBBCQZEuHYyABBJQQxnMVHMbykDGrOAxtnSUVvXgOO2EZcGqUhClChYBTowSBM6PBZu1y1QxI41rMKmMurLei7d7W8zNKkg0MJICAJFs6HAMJIKCEMJ6r4DCWh4xZxWFo6yyp6MVz2AnLgFOjJEwRKgScGiUInBkNNmuXq2ZAGtdiVhlzYb0Vbfe2np9RkmxgIAEEJNnS4RhIAAElhPFcBYexPGTMKg5DW2dJRS+ew05YBpwaJWGKUCHg1ChB4MxosFm7XDUD0rgWs8qYC+utaLu39fyMkmQDAwkgIMmWDsdAAggoIYznKjiM5SFjVnEY2jpLKnrxHHbCMuDUKAlThAoBp0YJAmdGg83a5aoZkMa1mFXGXFhvRdu9rednlCQbGEgAAUm2dDgGEkBACWE8V8FhLA8Zs4rD0NZZUtGL57ATlgGnRkmYIlQIODVKEDgzGmzWLlfNgDSuxawy5sJ6K9rubT0/oyTZwEACCEiypcMxkAACSgjjuQoOY3nImFUchrbOkopePIedsAw4NUrCFKFCwKlRgsCZ0WCzdrlqBqRxLWaVMRfWW9F2b+v5GSXJBgYSQECSLR2OgQQQUEIYz1VwGMtDxqziMLR1llT04jnshGXAqVESpggVAk6NEgTOjAabtctVMyCNazGrjLmw3oq2e1vPzyhJNjCQAAKSbOlwDCSAgBLCeK6Cw1geMmYVh6Gts6SiF89hJywDTo2SMEWoEHBqlCBwZjTYrF2umgFpXItZZcyF9Va03dt6fkZJsoGBBBCQZEuHYyABBJQQxnMVHMbykDGrOAxtnSUVvXgOO2EZcGqUhClChYBTowSBM6PBZu1y1QxI41rMKmMurLei7d7W8zNKkg0MJICAJFs6HAMJIKCEMJ6r4DCWh4xZxWFo6yyp6MVz2AnLgFOjJEwRKgScGiUInBkNNmuXq2ZAGtdiVhlzYb0Vbfe2np9RkmxgIAEEJNnS4RhIAAElhPFcBYexPGTMKg5DW2dJRS+ew05YBpwaJWGKUCHg1ChB4MxosFm7XDUD0rgWs8qYC+utaLu39fyMkmQDAwkgIMmWDsdAAggoIYznKjiM5SFjVnEY2jpLKnrxHHbCMuDUKAlThAoBp0YJAmdGg83a5aoZkMa1mFXGXFhvRdu9rednlCQbGEgAAUm2dDgGEkBACWE8V8FhLA8Zs4rD0NZZUtGL57ATlgGnRkmYIlQIODVKEDgzGmzWLlfNgDSuxawy5sJ6K9rubT0/oyTZwEACCEiypcMxkAACSgjjuQoOY3nImFUchrbOkopePIedsAw4NUrCFKFCwKlRgsCZ0WCzdrlqBqRxLWaVMRfWW9F2b+v5GSXJBgYSQECSLR2OgQQQUEIYz1VwGMtDxqziMLR1llT04jnshGXAqVESpggVAk6NEgTOjAabtctVMyCNa2WzasKECa1bt46KikpMTOzZs+eOHTvYdc6dOzds2LArrrgiMjKyd+/ehw8fZtL+/ft79OgRHh6emJg4atSoS5cuMWnt2rUtW7b0eDwNGzZcuHAh6/+/b1tmzkxJSfF6vZmZmRs2bNBLhm14b4ZD/Dsr2u5tPb8/rsB6MJAAAoEh9RmFgQQQ8GEV8EOXpxG8/YCpsoGwn2usrrxGt27dFi5cuG3bts2bN/fo0SM5OfnXX3+lxUOHDq1Xr96aNWs2btzYtm3b9u3b0/6SkpL09PTOnTvn5+fn5eUlJCQ8/fTTVNq7d29ERMTjjz9eUFCQm5sbGhq6cuVKKi1ZssTj8SxYsOCHH34YPHhwbGzskSNHqFTe/8J7K2+UT7+ts6SiF+/DKuCHgFOjFDBV/UDAqVHSg5Jpw2btclUGLB0L+zk/q/QrOHr0qKZp69atI4QUFRVVq1btgw8+oAXbt2/XNO2bb74hhOTl5YWEhLBj1pw5c6Kjoy9cuEAIGTNmTLNmzdicffv27datG32YmZk5fPhw2i4tLa1Tp87EiRNZpWED3pvhEP/OirZ7W8/vjyuwHgwkgEBgSH1GYSABBHxYBfzQ5WkEbz9gqmwg7OfmsmrXrl2apm3dupUQsmbNGk3TTp48ya6UnJz8yiuvEELGjRuXkZHB+vfu3atp2qZNmy6P6tChw8iRI5m0YMGC6OhoQsiFCxdCQ0OXLVvGpIEDB95+++3soWED3pvhEP9OW2dJRS/eH1dgPYBToxQYUp9RgFOj5MMq4IewWbtcDZgqGwj7uYmsKi0tveWWW6677jo69bvvvuvxeNhlCCFt2rQZM2YMIWTw4MFdu3Zl0pkzZzRNy8vLI4SkpaVNmDCBSStWrNA07ezZswcPHtQ07euvv2bS6NGjMzMz2UPWOH/+fPHvX4WFhZqmFRcXMzWARkXbva3nD4Cn4RAMJICAITGznRhIAAGzMMurd3kawdsvD5p4v7KsGjp0aEpKSmFhIb22VVmVk5Oj/fkLs6ri4lD8dQZXAk6NEoxOUAWcGiVBhtwy2KxdrnLpcQvUZNXw4cPr1q27d+9edj2r3gPEc1XFJZP/zOzplmxgIAEEJNnS4RhIAAElhPHnq+Awlocsm1VlZWXDhw+vU6fOzp079auh91Z8+OGHtHPHjh0+91awu/jmzp0bHR19/vx5em9Feno6m6dfv376eytGjBhBpdLS0qSkJLy3wj88gtzDninJBuDUKEmypcMBp0ZJCWHMqsqeVQ899FBMTMznn39+6Pevs2fP0ud+6NChycnJn3322caNG9v99kX76T3rXbt23bx588qVKxMTE33uWR89evT27dtnzZrlc8+61+tdtGhRQUHBkCFDYmNj2Z2E5b3U4Bwub5RPf5Dd316X82EV8EMMJIBAwFT1AzGQAAJ6UDJt2KxdrsqApWNhP+ffW/Hnz4b+7xH7AV76s8BxcXERERF33HHHoUOH2HJ/+umnm2++OTw8PCEh4YknnvD5WeAWLVp4PJ7U1FQ2FR2Ym5ubnJzs8XgyMzPXr1/PZiuvAe+tvFE+/fYKjyCv1odVwA8Bp0YpYKr6gYBTo6QHJdN2eRrB25cBS8fCfs7PKvkVVNwM8N4Erxtk97fX5QQZcsswkAACXHoiBRhIAAERgCI1sFm7XBUBCNfAfo5ZRewVHkFeLfzaElcBp0ZJHCNQCTg1SgA3U5LL0wjevimShsWYVYZY/ugMsvvb63J/YJJrYSABBOTQ/m80BhJAQAlhvLcCsyrwFxKcw4Lz2is8grxaQYbcMsCpUeLSEykAnBolEYAiNbBZu1wVAQjXwH6O7wHie4BXAvkHv7bEVQwkgIA4RqASAwkgAHAzJbk8jeDtmyJpWIxZZYjlj07AqVH6A5NcC3BqlOTQ/m804NQoKSGM7wFiVgX+QoJzWHBeDCSAgCBDbhkGEkCAS0+kAAMJICACUKQGNmuXqyIA4RrYz/E9QHwPEN8D/BgIkiBI8D9gQRVwapQEGXLLXJ5G8Pa59LgFmFUcRMCpAiUOO2E5CI5v30sIU4QKMZAAAhA4Mxps1i5XzYA0rsWsMubCejGQAAKMkmTDvkEShJVLsqXDAadGSQlh/LwKDmN5yJhVHIaAU6PEYScsB8Hx7XsJYYpQIQYSQAACZ0aDzdrlqhmQxrWYVcZcWC8GEkCAUZJs2DdIgrBySbZ0OODUKCkhjOcqOIzlIWNWcRgCTo0Sh52wHATHt+8lhClChRhIAAEInBkNNmuXq2ZAGtdiVhlzYb0YSAABRkmyYd8gCcLKJdnS4YBTo6SEMJ6r4DCWh4xZxWEIODVKHHbCchAc376XEKYIFWIgAQQgcGY02KxdrpoBaVyLWWXMhfViIAEEGCXJhn2DJAgrl2RLhwNOjZISwniugsNYHjJmFYch4NQocdgJy0FwfPteQpgiVIiBBBCAwJnRYLN2uWoGpHEtZpUxF9aLgQQQYJQkG/YNkiCsXJItHQ44NUpKCOO5Cg5jeciYVRyGgFOjxGEnLAfB8e17CWGKUCEGEkAAAmdGg83a5aoZkMa1mFXGXFgvBhJAgFGSbNg3SIKwckm2dDjg1CgpIYznKjiM5SFjVnEYAk6NEoedsBwEx7fvJYQpQoUYSAABCJwZDTZrl6tmQBrXYlYZc2G9GEgAAUZJsmHfIAnCyiXZ0uGAU6OkhDCeq+AwloeMWcVhCDg1Shx2wnIQHN++lxCmCBViIAEEIHBmNNisXa6aAWlci1llzIX1YiABBBglyYZ9gyQIK5dkS4cDTo2SEsJ4roLDWB4yZhWHIeDUKHHYCctBcHz7XkKYIlSIgQQQgMCZ0WCzdrlqBqRxLWaVMRfWi4EEEGCUJBv2DZIgrFySLR0OODVKSgjjuQoOY3nImFUchoBTo8RhJywHwfHtewlhilAhBhJAAAJnRoPN2uWqGZDGtZhVxlxYLwYSQIBRkmzYN0iCsHJJtnQ44NQoKSGM5yo4jOUhY1ZxGAJOjRKHnbAcBMe37yWEKUKFGEgAAQicGQ02a5erZkAa12JWGXNhvRhIAAFGSbJh3yAJwsol2dLhgFOjpIQwnqvgMJaHjFnFYQg4NUocdsJyEBzfvpcQpggVYiABBCBwZjTYrF2umgFpXItZZcyF9WIgAQQYJcmGfYMkCCuXZEuHA06NkhLCeK6Cw1geMmYVhyHg1Chx2AnLQXB8+15CmCJUiIEEEIDAmdFgs3a5agakcS1mlTEX1ouBBBBglCQb9g2SIKxcki0dDjg1SkoI47kKDmN5yJhVHIaAU6PEYScsB8Hx7XsJYYpQIQYSQAACZ0aDzdrlqhmQxrWYVcZcWC8GEkCAUZJs2DdIgrBySbZ0OODUKCkhjOcqOIzlIWNWcRgCTo0Sh52wHATHt+8lhClChRhIAAEInBkNNmuXq2ZAGtdiVhlzYb0YSAABRkmyYd8gCcLKJdnS4YBTo6SEMJ6r4DCWh4xZxWEIODVKHHbCchAc376XEKYIFWIgAQQgcGY02KxdrpoBaVyLWWXMhfViIAEEGCXJhn2DJAgrl2RLhwNOjZISwniugsNYHjJmFYch4NQocdgJy0FwfPteQpgiVIiBBBCAwJnRYLN2uWoGpHEtZpUxF9aLgQQQYJQkG/YNkiCsXJItHQ44NUpKCOO5Cg5jeciYVRyGgFOjxGEnLAfB8e17CWGKUCEGEkAAAmdGg83a5aoZkMa1mFXGXFgvBhJAgFGSbNg3SIKwckm2dDjg1CgpIYznKjiM5SFjVnEYAk6NEoedsBwEx7fvJYQpQoUYSAABCJwZDTZrl6tmQBrXYlYZc2G9GEgAAUZJsmHfIAnCyiXZ0uGAU6OkhDCeq+AwloeMWcVhCDg1Shx2wnIQHN++lxCmCBViIAEEIHBmNNisXa6aAWlci1llzIX1YiABBBglyYZ9gyQIK5dkS4cDTo2SEsJ4roLDWB4yZhWHIeDUKHHYCctBcHz7XkKYIlSIgQQQgMCZ0WCzdrlqBqRxLWaVMRfWi4EEEGCUJBv2DZIgrFySLR0OODVKSgjjuQoOY3nImFUchoBTo8RhJywHwfHtewlhilAhBhJAAAJnRoPN2uWqGZDGtZhVxlxYLwYSQIBRkmzYN0iCsHJJtnQ44NQoKSGM5yo4jOUhY1ZxGAJOjRKHnbAcBMe37yWEKUKFGEgAAQicGQ02a5erZkAa12JWGXNhvRhIAAFGSbJh3yAJwsol2dLhgFOjpIQwnqvgMJaHjFnFYQg4NUocdsJyEBzfvpcQpggVYiABBCBwZjTYrF2umgFpXItZZcyF9WIgAQQYJcmGfYMkCCuXZEuHA06NkhLCeK6Cw1geMmYVhyHg1Chx2AnLQXB8+15CmCJUiIEEEIDAmdFgs3a5agakcS1mlTEX1ouBBBBglCQb9g2SIKxcki0dDjg1SkoI47kKDmN5yAqyat26dbfeemvt2rU1TVu2bBlbU3Z2tqb76tatG5OOHz/ev3//6tWrx8TE3HfffadPn2bSli1brr/+eq/XW7du3cmTJ7N+Qsj777/fpEkTr9ebnp6+YsUKvWTYhvdmOMS/E3BqlPxxBdYTBMe37yUCQ+ozCgMJIODDKuCHsFm7XA2YKhsI+7nG6oBGXl7e2LFjly5d6p9V3bt3P/T714kTJ9gk3bt3z8jIWL9+/RdffNGoUaN+/fpRqbi4uGbNmnffffe2bdsWL14cHh4+d+5cKn311VehoaEvv/xyQUHBM888U61ata1bt7IJDRvw3gyH+HdiIAEE/HEF1mPfIAnCygND6jMKcGqUfFgF/NDlaQRvP2CqbCDs50JZxebyz6qePXsylTUKCgo0Tfvuu+9oz7///e8qVaocPHiQEDJ79uy4uLgLFy5Q6cknn2zSpAlt9+nT55ZbbmGTXHvttQ8++CB7aNiA92Y4xL8TcGqU/HEF1hMEx7fvJQJD6jMKAwkg4MMq4IewWbtcDZgqGwj7uWxWxcTEJCYmNm7ceOjQob/88gu96vz582NjY9kKLl26FBoaunTpUkLIgAED9PH22WefaZpGD2T16tWbPn06G/Xss882b96cPWSN8+fPF//+VVhYqGlacXExUwNoYCABBALgaTjEvkEShJUbEjPbCTg1SmZhllfv8jSCt18eNPH+CsyqxYsXL1++/Pvvv1+2bNlVV13Vpk2bkpISQsj48eMbN26sX2JiYuLs2bMJIV26dBkyZAiTfvjhB03TCgoKLo+qVq3ae++9x6RZs2bVqFGDPWSNnJwc3Wdk/9fErALCRlJi2CUbQXB8+15Cki0djoEEEFBCGO+tsHFW6V8Be/bs0TRt9erVFZ1VeK6SjB9Tw/VPsUzbvkEShJXLgGVjAadGiVGSbMBm7XJVki0hpALPVT6LS0hIeP311wkhFfoeoP6i8N70lUDblHe7rRjgZkoKguPb9xKmSJZXjIEEECgPmtl+l6cRvH2zMP3rYT+X+rxKf7HCwsIqVaosX76cEELvrdi4cSMt+OSTT3zurbh48SKVnn76af29Fbfeeiubs127dnhvheXRyJ4OyYZ9gyQIK5dkS4cDTo2SEsL4HqANsur06dP5v31pmvbKK6/k5+fv37//9OnTo0aN+uabb/bt27d69eprrrkmLS3t/Pnz9GXRvXv3li1bbtiw4csvv0xLS2P3rBcVFdWsWXPAgAHbtm1bsmRJRESE/p71qlWrTp06dfv27Tk5OXjPuuVBVdDkSlX/yIPg+Pa9hBLIGEgAASWEMatskFVr1671uZ0hOzv77NmzXbt2TUxMrFatWkpKyuDBgw8fPsxeE8ePH+/Xr19UVFR0dPSgQYMMfxY4KSlp0qRJbAj9WeDGjRt7PJ5mzZrhzwJjVtk3fkytXP9PIOA24NQoBUzVZyBs1i5XfVgF8FDle4ABXL5Ch8B7E7x0ZYiESrsGQYbcMlPe7bZiLj2RAgwkgIAIQJEal6cRvH0RgHAN7OfmPq+CrxR8Fd6b4HoqbU5UhoUJMuSWuS1+TO2XS0+kAHBqlEQAitTAZu1yVQQgXAP7OWYVqQyRUGnXAL+2xFVT3u22YnGMQCUGEkAA4GZKcnkawds3RdKwGLPKEMsfnZU2JyrDwv7AJNdyW/yY2q8c2v+NBpwaJSWE8d4KzKrAX0hwDgvOWxkiodKuQZAht8yUd7utmEtPpAADCSAgAlCkBjZrl6siAOEa2M/xPUB8D/BKICnh15a46rb4MbVfcYxAJeDUKAHcTEkuTyN4+6ZIGhZjVhli+aMTcGqU/sAk1zLl3W4rlkP7v9EYSAABJYTxPUDMqsBfSHAOC86LgQQQEGTILXNb/JjaL5eeSAHg1CiJABSpgc3a5aoIQLgG9nN8DxDfA8T3AD82FS3Ki+F/wIIqBhJAQJAht8zlaQRvn0uPW4BZxUEEnCpQ4rATlpX7u5MmFKYIFQJOjRIEzowGm7XLVTMgjWsxq4y5sF4MJIAAoyTZcFK0KN+LJFs6HAMJIKCEMH5eBYexPGTMKg5DwKlR4rATlpX7u5MmFKYIFQJOjRIEzowGm7XLVTMgjWsxq4y5sF4MJIAAoyTZcFK0KN+LJFs6xz18KwAAIABJREFUHAMJIKCEMJ6r4DCWh4xZxWEIODVKHHbCsnJ/d9KEwhShQsCpUYLAmdFgs3a5agakcS1mlTEX1ouBBBBglCQbTooW5XuRZEuHYyABBJQQxnMVHMbykDGrOAwBp0aJw05YVu7vTppQmCJUCDg1ShA4Mxps1i5XzYA0rsWsMubCejGQAAKMkmTDSdGifC+SbOlwDCSAgBLCeK6Cw1geMmYVhyHg1Chx2AnLyv3dSRMKU4QKAadGCQJnRoPN2uWqGZDGtZhVxlxYLwYSQIBRkmw4KVqU70WSLR2OgQQQUEIYz1VwGMtDxqziMAScGiUOO2FZub87aUJhilAh4NQoQeDMaLBZu1w1A9K4FrPKmAvrxUACCDBKkg0nRYvyvUiypcMxkAACSgjjuQoOY3nImFUchoBTo8RhJywr93cnTShMESoEnBolCJwZDTZrl6tmQBrXYlYZc2G9GEgAAUZJsuGkaFG+F0m2dDgGEkBACWE8V8FhLA8Zs4rDEHBqlDjshGXl/u6kCYUpQoWAU6MEgTOjwWbtctUMSONazCpjLqwXAwkgwChJNpwULcr3IsmWDsdAAggoIYznKjiM5SFjVnEYAk6NEoedsKzc3500oTBFqBBwapQgcGY02KxdrpoBaVyLWWXMhfViIAEEGCXJhpOiRfleJNnS4RhIAAElhPFcBYexPGTMKg5DwKlR4rATlpX7u5MmFKYIFQJOjRIEzowGm7XLVTMgjWsxq4y5sF4MJIAAoyTZcFK0KN+LJFs6HAMJIKCEMJ6r4DCWh4xZxWEIODVKHHbCsnJ/d9KEwhShQsCpUYLAmdFgs3a5agakcS1mlTEX1ouBBBBglCQbTooW5XuRZEuHYyABBJQQxnMVHMbykDGrOAwBp0aJw05YVu7vTppQmCJUCDg1ShA4Mxps1i5XzYA0rsWsMubCejGQAAKMkmTDSdGifC+SbOlwDCSAgBLCeK6Cw1geMmYVhyHg1Chx2AnLyv3dSRMKU4QKAadGCQJnRoPN2uWqGZDGtZhVxlxYLwYSQIBRkmw4KVqU70WSLR2OgQQQUEIYz1VwGMtDxqziMAScGiUOO2FZub87aUJhilAh4NQoQeDMaLBZu1w1A9K4FrPKmAvrxUACCDBKkg0nRYvyvUiypcMxkAACSgjjuQoOY3nImFUchoBTo8RhJywr93cnTShMESoEnBolCJwZDTZrl6tmQBrXYlYZc2G9GEgAAUZJsuGkaFG+F0m2dDgGEkBACWE8V8FhLA8Zs4rDEHBqlDjshGXl/u6kCYUpQoWAU6MEgTOjwWbtctUMSONazCpjLqwXAwkgwChJNpwULcr3IsmWDsdAAggoIYznKjiM5SFjVnEYAk6NEoedsKzc3500oTBFqBBwapQgcGY02KxdrpoBaVyLWWXMhfViIAEEGCXJhpOiRfleJNnS4RhIAAElhPFcBYexPGTMKg5DwKlR4rATlpX7u5MmFKYIFQJOjRIEzowGm7XLVTMgjWsxq4y5sF4MJIAAoyTZcFK0KN+LJFs6HAMJIKCEMJ6r4DCWh4xZxWEIODVKHHbCsnJ/d9KEwhShQsCpUYLAmdFgs3a5agakcS1mlTEX1ouBBBBglCQbTooW5XuRZEuHYyABBJQQxnMVHMbykDGrOAwBp0aJw05YVu7vTppQmCJUCDg1ShA4Mxps1i5XzYA0rsWsMubCejGQAAKMkmTDSdGifC+SbOlwDCSAgBLCeK6Cw1geMmYVhyHg1Chx2AnLyv3dSRMKU4QKAadGCQJnRoPN2uWqGZDGtZhVxlxYLwYSQIBRkmw4KVqU70WSLR2OgQQQUEIYz1VwGMtDxqziMAScGiUOO2FZub87aUJhilAh4NQoQeDMaLBZu1w1A9K4FrPKmAvrxUACCDBKkg0nRYvyvUiypcMxkAACSgjjuQoOY3nImFUchoBTo8RhJywr93cnTShMESoEnBolCJwZDTZrl6tmQBrXYlYZc2G9GEgAAUZJsuGkaFG+F0m2dDgGEkBACWE8V8FhLA8Zs4rDEHBqlDjshGXl/u6kCYUpQoWAU6MEgTOjwWbtctUMSONazCpjLqwXAwkgwChJNpwULcr3IsmWDsdAAggoIYznKjiM5SFjVnEYAk6NEoedsKzc3500oTBFqBBwapQgcGY02KxdrpoBaVyrIKvWrVt366231q5dW9O0ZcuWseuUlZWNGzeuVq1aYWFhnTp12rlzJ5OOHz/ev3//6tWrx8TE3HfffadPn2bSli1brr/+eq/XW7du3cmTJ7N+Qsj777/fpEkTr9ebnp6+YsUKvWTYhvdmOMS/EwMJIOCPK7AeJ0WL8r0EhtRnFAYSQMCHVcAPXZ5G8PYDpsoGwn6usTqgkZeXN3bs2KVLl/pk1aRJk2JiYv71r39t2bLl9ttvb9Cgwblz5+g83bt3z8jIWL9+/RdffNGoUaN+/frR/uLi4po1a959993btm1bvHhxeHj43LlzqfTVV1+Fhoa+/PLLBQUFzzzzTLVq1bZu3QqsihAC7w0ey1TAqVFilCQbyv3dSRNKsqXDAadGSQlhfA/QBlnFnml9VpWVldWqVWvKlClULSoq8nq9ixcvJoQUFBRomvbdd99R6d///neVKlUOHjxICJk9e3ZcXNyFCxeo9OSTTzZp0oS2+/Tpc8stt9A2IeTaa6998MEH2UPDBmZVRaepIfYAOp0ULcr3EgBP/yEYSAABf1yB9cBm7XI1MKT6UbCfC52r2HT6rNqzZ4+mafn5+Uzt2LHjI488QgiZP39+bGws67906VJoaOjSpUsJIQMGDOjZsyeTPvvsM03TTpw4cXlUvXr1pk+fzqRnn322efPm7CFrnD9/vvj3r8LCQk3TiouLmRpAo6Lt3tbzB8DTcIhyf3fShIbEzHYCTo2SWZjl1bs8jeDtlwdNvL+isuqrr77SNO2///0vW8pdd93Vp08fQsj48eMbN27M+gkhiYmJs2fPJoR06dJlyJAhTPrhhx80TSsoKLg8qlq1au+99x6TZs2aVaNGDfaQNXJycrQ/f2FWVVwcMuySDSdFi/K9SLKlwzGQAAJKCON7gJhV5rIKz1UVl0z+M6v6R67c3500oRLIgFOjpIQwZpVds8qq9wD1Lzv4zKivBNr+Bo09jADAzZTkpGhRvhdTJMsrxkACCJQHzWw/bNYuV83C9K+H/Tzwz6vovRVTp06llywuLva5t2Ljxo1U+uSTT3zurbh48SKVnn76af29FbfeeivbQLt27fDeCpYZVjXY0yHZUO7vTppQki0dDjg1SkoI47kKDmN5yAqy6vTp0/m/fWma9sorr+Tn5+/fv58QMmnSpNjY2OXLl3///fc9e/b0uWe9ZcuWGzZs+PLLL9PS0tg960VFRTVr1hwwYMC2bduWLFkSERGhv2e9atWqU6dO3b59e05ODt6zblU+6a8r//qjMzgpWpTvRQlkDCSAgBLCmFU2yKq1a9f++W4GLTs7mxBCfxa4Zs2aXq+3U6dOP/74I3tNHD9+vF+/flFRUdHR0YMGDTL8WeCkpKRJkyaxIfRngRs3buzxeJo1a4Y/C6zPDKva+mdHpq3c3500oQxYNhZwapQYJckGbNYuVyXZcn9e1tx7gPKrUTsDfGYUvJZVMWCL6woy5JY5KVqU74VLT6QAAwkgIAJQpMblaQRvXwQgXAP7OWYVsUVmWLVI+LUlrir3dydNKI4RqAScGiWAmykJNmuXq6ZIGhZjVhli+aPTqhiwxXX/wCTXclK0KN+LHNr/jcZAAggoIYyfV8FhLA8Zs4rD0BaZYdUiOeyEZeX+7qQJhSlChYBTowSBM6PBZu1y1QxI41rMKmMurNeqGLDFdRklyYaTokX5XiTZ0uEYSAABJYTxXAWHsTxkzCoOQ1tkhlWL5LATlpX7u5MmFKYIFQJOjRIEzowGm7XLVTMgjWsxq4y5sF6rYsAW12WUJBtOihble5FkS4djIAEElBDGcxUcxvKQMas4DG2RGVYtksNOWFbu706aUJgiVAg4NUoQODMabNYuV82ANK7FrDLmwnqtigFbXJdRkmw4KVqU70WSLR2OgQQQUEIYz1VwGMtDxqziMLRFZli1SA47YVm5vztpQmGKUCHg1ChB4MxosFm7XDUD0rgWs8qYC+u1KgZscV1GSbLhpGhRvhdJtnQ4BhJAQAlhPFfBYSwPGbOKw9AWmWHVIjnshGXl/u6kCYUpQoWAU6MEgTOjwWbtctUMSONazCpjLqzXqhiwxXUZJcmGk6JF+V4k2dLhGEgAASWE8VwFh7E8ZMwqDkNbZIZVi+SwE5aV+7uTJhSmCBUCTo0SBM6MBpu1y1UzII1rMauMubBeq2LAFtdllCQbTooW5XuRZEuHYyABBJQQxnMVHMbykDGrOAxtkRlWLZLDTlhW7u9OmlCYIlQIODVKEDgzGmzWLlfNgDSuxawy5sJ6rYoBW1yXUZJsOClalO9Fki0djoEEEFBCGM9VcBjLQ8as4jC0RWZYtUgOO2FZub87aUJhilAh4NQoQeDMaLBZu1w1A9K4FrPKmAvrtSoGbHFdRkmy4aRoUb4XSbZ0OAYSQEAJYTxXwWEsDxmzisPQFplh1SI57IRl5f7upAmFKUKFgFOjBIEzo8Fm7XLVDEjjWswqYy6s16oYsMV1GSXJhpOiRfleJNnS4RhIAAElhPFcBYexPGTMKg5DW2SGVYvksBOWlfu7kyYUpggVAk6NEgTOjAabtctVMyCNazGrjLmwXqtiwBbXZZQkG06KFuV7kWRLh2MgAQSUEMZzFRzG8pAxqzgMbZEZVi2Sw05YVu7vTppQmCJUCDg1ShA4Mxps1i5XzYA0rsWsMubCeq2KAVtcl1GSbDgpWpTvRZItHY6BBBBQQhjPVXAYy0PGrOIwtEVmWLVIDjthWbm/O2lCYYpQIeDUKEHgzGiwWbtcNQPSuBazypgL67UqBmxxXUZJsuGkaFG+F0m2dDgGEkBACWE8V8FhLA8Zs4rD0BaZYdUiOeyEZeX+7qQJhSlChYBTowSBM6PBZu1y1QxI41rMKmMurNeqGLDFdRklyYaTokX5XiTZ0uEYSAABJYTxXAWHsTxkzCoOQ1tkhlWL5LATlpX7u5MmFKYIFQJOjRIEzowGm7XLVTMgjWsxq4y5sF6rYsAW12WUJBtOihble5FkS4djIAEElBDGcxUcxvKQMas4DG2RGVYtksNOWFbu706aUJgiVAg4NUoQODMabNYuV82ANK7FrDLmwnqtigFbXJdRkmw4KVqU70WSLR2OgQQQUEIYz1VwGMtDxqziMLRFZli1SA47YVm5vztpQmGKUCHg1ChB4MxosFm7XDUD0rgWs8qYC+u1KgZscV1GSbLhpGhRvhdJtnQ4BhJAQAlhPFfBYSwPGbOKw9AWmWHVIjnshGXl/u6kCYUpQoWAU6MEgTOjwWbtctUMSONazCpjLqzXqhiwxXUZJcmGk6JF+V4k2dLhGEgAASWE8VwFh7E8ZMwqDkNbZIZVi+SwE5aV+7uTJhSmCBUCTo0SBM6MBpu1y1UzII1rMauMubBeq2LAFtdllCQbTooW5XuRZEuHYyABBJQQxnMVHMbykDGrOAxtkRlWLZLDTlhW7u9OmlCYIlQIODVKEDgzGmzWLlfNgDSuxawy5sJ6rYoBW1yXUZJsOClalO9Fki0djoEEEFBCGM9VcBjLQ8as4jC0RWZYtUgOO2FZub87aUJhilAh4NQoQeDMaLBZu1w1A9K4FrPKmAvrtSoGbHFdRkmy4aRoUb4XSbZ0OAYSQEAJYTxXwWEsDxmzisPQFplh1SI57IRl5f7upAmFKUKFgFOjBIEzo8Fm7XLVDEjjWswqYy6s16oYsMV1GSXJhpOiRfleJNnS4RhIAAElhPFcBYexPGTMKg5DW2SGVYvksBOWlfu7kyYUpggVAk6NEgTOjAabtctVMyCNazGrjLmwXqtiwBbXZZQkG06KFuV7kWRLh2MgAQSUEMZzFRzG8pAxqzgMbZEZVi2Sw05YVu7vTppQmCJUCDg1ShA4Mxps1i5XzYA0rsWsMubCeq2KAVtcl1GSbDgpWpTvRZItHY6BBBBQQhjPVXAYy0PGrOIwtEVmWLVIDjthWbm/O2lCYYpQIeDUKEHgzGiwWbtcNQPSuBazypgL67UqBmxxXUZJsuGkaFG+F0m2dDgGEkBACWE8V8FhLA8Zs4rD0BaZYdUiOeyEZeX+7qQJhSlChYBTowSBM6PBZu1y1QxI41rMKmMurNeqGLDFdRklyYaTokX5XiTZ0uEYSAABJYTxXAWHsTxkzCoOQ1tkhlWL5LATlpX7u5MmFKYIFQJOjRIEzowGm7XLVTMgjWsxq4y5sF6rYsAW12WUJBtOihble5FkS4djIAEElBDGcxUcxvKQMas4DG2RGVYtksNOWFbu706aUJgiVAg4NUoQODMabNYuV82ANK7FrDLmwnqtigFbXJdRkmw4KVqU70WSLR2OgQQQUEIYz1VwGMtDrsCsysnJ0XRfTZo0ocs9d+7csGHDrrjiisjIyN69ex8+fJhtY//+/T169AgPD09MTBw1atSlS5eYtHbt2pYtW3o8noYNGy5cuJD1Aw14b8BAvWSLzLBqkXpQMm3l/u6kCWXAsrGAU6PEKEk2YLN2uSrJlhAC+7kmc4GcnJxmzZod+v3r2LFjdLahQ4fWq1dvzZo1GzdubNu2bfv27Wl/SUlJenp6586d8/Pz8/LyEhISnn76aSrt3bs3IiLi8ccfLygoyM3NDQ0NXblyJXdt8N64w2mBVTFgi+sKMuSWOSlalO+FS0+kAAMJICACUKTG5WkEb18EIFwD+7lsVmVkZPhcvqioqFq1ah988AHt3759u6Zp33zzDSEkLy8vJCSEHbPmzJkTHR194cIFQsiYMWOaNWvGpurbt2+3bt3Yw/Ia8N7KG+XTb4vMsGqRPqwCfqjc3500YcBU9QMBp0ZJD0qmDZu1y1UZsHQs7OeyWRUREVG7du0GDRr0799///79hJA1a9Zomnby5Em29OTk5FdeeYUQMm7cOH227d27V9O0TZs2XR7VoUOHkSNHsiELFiyIjo5mD8trwHsrb5RPv1UxYIvr+rAK+KGTokX5XgKmqh+IgQQQ0IOSabs8jeDty4ClY2E/l8qqvLy8999/f8uWLStXrmzXrl1ycvKpU6feffddj8ejX3ebNm3GjBlDCBk8eHDXrl2ZdObMGU3T8vLyCCFpaWkTJkxg0ooVKzRNO3v2LOthjfPnzxf//lVYWKhpWnFxMVMDaNgiM6xaZAA8DYco93cnTWhIzGwn4NQomYVZXj1s1i5Xy4Mm3l+BWaVfxMmTJ6Ojo998882KziqfGzowqyo0xvRPsUzbSdGifC8yYNlYDCSAAKMk2XB5GsHbl2RbsfdW+CyudevWTz31VEW/B4jnqgoNJ5/JfZ7igB8q93cnTRgwVf1AwKlR0oOSacNm7XJVBiwdG6Rz1enTp+Pi4l599VV6b8WHH35IL79jxw6feyuOHDlCpblz50ZHR58/f57eW5Gens52269fP7y3wic2LHnInhHJhpOiRfleJNnS4RhIAAElhPHnq+AwlodcgVn1xBNPfP755/v27fvqq686d+6ckJBw9OhRQsjQoUOTk5M/++yzjRs3tvvti26D3rPetWvXzZs3r1y5MjEx0eee9dGjR2/fvn3WrFl4z7olyeR/UfnXH51Bub87aUIlkAGnRkkJYcwqG2dV3759a9eu7fF4kpKS+vbtu3v3bvqaoD8LHBcXFxERcccddxw6dIi9Vn766aebb745PDw8ISHhiSee8PlZ4BYtWng8ntTUVPxZYP/YsKSHPXGSDSdFi/K9SLKlwzGQAAJKCGNW2TirVL0CAp4HPjMKTmtJBtjlooIMuWXK/d1JE3LpiRQATo2SCECRGtisXa6KAIRrYD+XumcdvnAQVHhvgguwS2xYsk5BhtwyJ0WL8r1w6YkUYCABBEQAitS4PI3g7YsAhGtgP8esIpZkgF0uCr+2xFXl/u6kCcUxApWAU6MEcDMlwWbtctUUScNizCpDLH902iU2LFnnH5jkWk6KFuV7kUP7v9EYSAABJYTx8yo4jOUhY1ZxGFqSAXa5KIedsKzc3500oTBFqBBwapQgcGY02KxdrpoBaVyLWWXMhfXaJTYsWSejJNlwUrQo34skWzocAwkgoIQwnqvgMJaHjFnFYWhJBtjlohx2wrJyf3fShMIUoULAqVGCwJnRYLN2uWoGpHEtZpUxF9Zrl9iwZJ2MkmTDSdGifC+SbOlwDCSAgBLCeK6Cw1geMmYVh6ElGWCXi3LYCcvK/d1JEwpThAoBp0YJAmdGg83a5aoZkMa1mFXGXFivXWLDknUySpINJ0WL8r1IsqXDMZAAAkoI47kKDmN5yJhVHIaWZIBdLsphJywr93cnTShMESoEnBolCJwZDTZrl6tmQBrXYlYZc2G9dokNS9bJKEk2nBQtyvciyZYOx0ACCCghjOcqOIzlIWNWcRhakgF2uSiHnbCs3N+dNKEwRagQcGqUIHBmNNisXa6aAWlci1llzIX12iU2LFknoyTZcFK0KN+LJFs6HAMJIKCEMJ6r4DCWh4xZxWFoSQbY5aIcdsKycn930oTCFKFCwKlRgsCZ0WCzdrlqBqRxLWaVMRfWa5fYsGSdjJJkw0nRonwvkmzpcAwkgIASwniugsNYHjJmFYehJRlgl4ty2AnLyv3dSRMKU4QKAadGCQJnRoPN2uWqGZDGtZhVxlxYr11iw5J1MkqSDSdFi/K9SLKlwzGQAAJKCOO5Cg5jeciYVRyGlmSAXS7KYScsK/d3J00oTBEqBJwaJQicGQ02a5erZkAa12JWGXNhvXaJDUvWyShJNpwULcr3IsmWDsdAAggoIYznKjiM5SFjVnEYWpIBdrkoh52wrNzfnTShMEWoEHBqlCBwZjTYrF2umgFpXItZZcyF9dolNixZJ6Mk2XBStCjfiyRbOhwDCSCghDCeq+AwloeMWcVhaEkG2OWiHHbCsnJ/d9KEwhShQsCpUYLAmdFgs3a5agakcS1mlTEX1muX2LBknYySZMNJ0aJ8L5Js6XAMJICAEsJ4roLDWB4yZhWHoSUZYJeLctgJy8r93UkTClOECgGnRgkCZ0aDzdrlqhmQxrWYVcZcWK9dYsOSdTJKkg0nRYvyvUiypcMxkAACSgjjuQoOY3nImFUchpZkgF0uymEnLCv3dydNKEwRKgScGiUInBkNNmuXq2ZAGtdiVhlzYb12iQ1L1skoSTacFC3K9yLJlg7HQAIIKCGM5yo4jOUhY1ZxGFqSAXa5KIedsKzc3500oTBFqBBwapQgcGY02KxdrpoBaVyLWWXMhfXaJTYsWSejJNlwUrQo34skWzocAwkgoIQwnqvgMJaHjFnFYWhJBtjlohx2wrJyf3fShMIUoULAqVGCwJnRYLN2uWoGpHEtZpUxF9Zrl9iwZJ2MkmTDSdGifC+SbOlwDCSAgBLCeK6Cw1geMmYVh6ElGWCXi3LYCcvK/d1JEwpThAoBp0YJAmdGg83a5aoZkMa1mFXGXFivXWLDknUySpINJ0WL8r1IsqXDMZAAAkoI47kKDmN5yJhVHIaWZIBdLsphJywr93cnTShMESoEnBolCJwZDTZrl6tmQBrXYlYZc2G9dokNS9bJKEk2nBQtyvciyZYOx0ACCCghjOcqOIzlIWNWcRhakgF2uSiHnbCs3N+dNKEwRagQcGqUIHBmNNisXa6aAWlci1llzIX12iU2LFknoyTZcFK0KN+LJFs6HAMJIKCEMJ6r4DCWh4xZxWFoSQbY5aIcdsKycn930oTCFKFCwKlRgsCZ0WCzdrlqBqRxLWaVMRfWa5fYsGSdjJJkw0nRonwvkmzpcAwkgIASwniugsNYHjJmFYehJRlgl4ty2AnLyv3dSRMKU4QKAadGCQJnRoPN2uWqGZDGtZhVxlxYr11iw5J1MkqSDSdFi/K9SLKlwzGQAAJKCOO5Cg5jeciYVRyGlmSAXS7KYScsK/d3J00oTBEqBJwaJQicGQ02a5erZkAa12JWGXNhvXaJDUvWyShJNpwULcr3IsmWDsdAAggoIYznKjiM5SFjVnEYWpIBdrkoh52wrNzfnTShMEWoEHBqlCBwZjTYrF2umgFpXItZZcyF9dolNixZJ6Mk2XBStCjfiyRbOhwDCSCghDCeq+AwloeMWcVhaEkG2OWiHHbCsnJ/d9KEwhShQsCpUYLAmdFgs3a5agakcS1mlTEX1muX2LBknYySZMNJ0aJ8L5Js6XAMJICAEsJ4roLDWB4yZhWHoSUZYJeLctgJy8r93UkTClOECgGnRgkCZ0aDzdrlqhmQxrWYVcZcWK9dYsOSdTJKkg0nRYvyvUiypcMxkAACSgjjuQoOY3nImFUchpZkgF0uymEnLCv3dydNKEwRKgScGiUInBkNNmuXq2ZAGtdiVhlzYb12iQ1L1skoSTacFC3K9yLJlg7HQAIIKCGM5yo4jOUhY1ZxGFqSAXa5KIedsKzc3500oTBFqBBwapQgcGY02KxdrpoBaVyLWWXMhfXaJTYsWSejJNlwUrQo34skWzocAwkgoIQwnqvgMJaHjFnFYWhJBtjlohx2wrJyf3fShMIUoULAqVGCwJnRYLN2uWoGpHEtZpUxF9Zrl9iwZJ2MkmTDSdGifC+SbOlwDCSAgBLCeK6Cw1geMmYVh6ElGWCXi3LYCcvK/d1JEwpThAoBp0YJAmdGg83a5aoZkMa1mFXGXFivXWLDknUySpINJ0WL8r1IsqXDMZAAAkoI47kKDmN5yDbLqpkzZ6akpHi93szMzA0bNsD7h/cGj2WqJRlgl4sySpIN5f7upAkl2dLhgFOjpIQwZhVm1R8vpCVLlng8ngULFvzwww+DBw+OjY09cuTIH7JfC7MZJfxhAAAIT0lEQVSqojPPD3mAHU6KFuV7CZDpn4dhIAEE/owq8EewWbtcDRzr7yNhP9d+L6sU/5+ZmTl8+HC6lNLS0jp16kycOBFYGbw3YKBeqmi7t/X8elAybeX+7qQJZcCysYBTo8QoSTZcnkbw9iXZEkJgP69EWXXhwoXQ0NBly5axPQ8cOPD2229nD2nj/Pnzxb9//fzzz5qmFRYW/t4RyP9/2ygN/yuPQCBAjcbUe/R9/K88AkbATPddNecq/K88AqZpljNgyqD/D/8rj0A5zEx0FxYWappWVFTk4/n0YSXKqoMHD2qa9vXXX7OFjh49OjMzkz2kjZycHA2/kAASQAJIwIkECgsLfTyfPrRfVunPVSdPntyzZ09RUZGJ7K7cpfQ7C8mTYuXeosWrQ8JBeAIQMkIOgEBRUVFhYWFpaWllzyrB9wANt+GYTvgdW8ds08KNIOEgwEfICFk5gUp0riKEZGZmjhgxgm6ytLQ0KSkJvrdCOQ7LJ8R/5BX9FCDhiibM/ZA8CAtwwyXc9kquXFm1ZMkSr9e7aNGigoKCIUOGxMbGHj582A0vO7ZHt73+2MaD1kDCQUCNkBGycgKVK6sIIbm5ucnJyR6PJzMzc/369co3XMknPH/+fE5OzuX/reTrtO/ykHAQnjuEjJCVE6h0WaV8hzghEkACSAAJ2J0AZpXdn0FcPxJAAkjA+QQwq5z/HOMOkQASQAJ2J4BZZfdnENePBJAAEnA+Acwq9c9xdnZ2z549Vc2bk5OTkZGhajZnzIOEg/A8ImSEHAQC4pfArBJn9afK8n65SU5OTlFR0cmTJ/9ULfEggKzatm1b7969U1JSNE2bPn26xMWtHFqZCb/xxhvXX3997G9fnTp14v7xGis5gteuzJD/+c9/tmrVKiYmJiIiIiMj4+233wa3UnnFygyZUVu8eLGmaQq/yWYzq2pgVgVI8tDvXzNmzIiOjv790aHTp08HOGM5wwLIqm+//XbUqFGLFy+uVauWfbOKIa2EhPv37z9r1qz8/Pzt27ffe++9MTExBw4cKOcJrNTdlRny2rVrly5dWlBQsHv37hkzZoSGhq5cubJS0yxncZUZMl3yvn37kpKSOnTogFlVznPoiO6FCxfGxMTot6J/86S0tHTChAn169cPCwtr3rz5Bx98QCvXrl2radrq1atbtWoVHh7erl27HTt2sEkmTpxYo0aNqKio++6778knn2TvAX777bedO3eOj4+Pjo7u2LHjf/7zHzbEsJGSkmLfrGI7qsyECSElJSXVq1d/66232ILt2KjkkAkhLVu2fOaZZ+zIlq25ckIuKSlp3779m2++qTcutubK08BzlexzAb/+XnrppSuvvHLlypV79uxZuHCh1+v9/PPPCSE0q6699trPP//8hx9+6NChQ/v27elS/vGPf3i93jfffHPHjh1jx46tXr06y6o1a9a8884727dvLygouP/++2vWrHnq1ClgA27IKmsJE0JOnToVFhb20UcfAU9E5Zcq88u4rKxs9erVERERn376aeUnCaywckJ+9tlne/XqRQjBrAKeOydIwOvv/PnzERER+r9ycv/99/fr149l1erVqymCFStWaJp27tw5Qki7du2GDRvG0Fx77bUsq1gnIaS0tLR69eqwRTo+qywnTAh56KGHUlNT6XOnf4Ls1a6cL+OioqLIyMiqVat6vd758+fbC6n/aish5C+++CIpKenYsWOYVf7Pl9N6gNfftm3bNE2L1H1Vq1aN/kUueq46evQoxbFp0yZN0/bv308IiY2N1b+h9Oijj7KsOnz48AMPPNCoUaPo6OjIyMgqVarMmjULAOr4rLKc8MSJE+Pi4rZs2QI8C7aQKufLuLS0dNeuXfn5+VOnTo2JiVm7dq0tYJa3yMoG+dSpU/Xr18/Ly6MLxnNVeU+cQ/qB19/69es1Tfv888936b5+/vlndq5itwvm5+drmrZv3z44q7p169a6desVK1Zs27Zt165dCQkJ8MdRjs8qawlPmTIlJibmu+++c8BLuTK/jCne+++/v2vXrrZGXdkgU9sJ/f2rym9foaGhu3fvroSc8fMq2ScFeP2dOnXK6/Ua3mtLz1WGWeXzHmDbtm3ZuSoqKorN9vPPP3NvSXd8VllIePLkydHR0d98843sC6hyjK/ML2NKaNCgQVlZWZWDVoCrqGyQz507t1X31bNnz5tuumnr1q0XLlwIcIcVOQyzSpYu8PojhIwdOzY+Pn7RokW7d+/+z3/+89prry1atAg+Vy1ZsiQsLGzBggU//vjjs88+q7+3omXLll26dCkoKFi/fn2HDh3Cw8MNz1UXLlzI/+2rdu3ao0aNys/P37Vrl+w+rRtfCQlPmjTJ4/F8+OGH7HZk5T+rEGTelRDyhAkTPv300z179hQUFEydOrVq1arz5s0LMha1l6uEkPUbxPcA9TQc2IZff2VlZTNmzGjSpEm1atUSExO7deu2bt06OKsIIePHj09ISIiKisrOzh4zZgw7V23atKl169ZhYWFp/3/7dmwCIRAFATQ13R60iK3NwHaELcpS9oJL5OCCST4KLzMZBh7CuMJu2xjj37Hpuq6f64ev/iB9oPD3nvUd+TiOV7/cD0Te931d12VZWmu99/M8Xy0853wg8p3UVt01PBMgQIAAgVjAP8CYTIAAAQIEigVsVTG4OgIECBCIBWxVTCZAgAABAsUCtqoYXB0BAgQIxAK2KiYTIECAAIFiAVtVDK6OAAECBGIBWxWTCRAgQIBAsYCtKgZXR4AAAQKxgK2KyQQIECBAoFjAVhWDqyNAgACBWMBWxWQCBAgQIFAsYKuKwdURIECAQCzwAcI6DMFF5VWUAAAAAElFTkSuQmCC)\n",
        "\n",
        "Se observa en la tabla y en el gráfico que la tienda que menos gasta en envíos es la tienda 4, seguida por la tienda 3, después la tienda 2 y por último la tienda 1. Los puntajes quedan de la siguiente manera\n",
        "\n",
        "\n",
        "\tTienda\t\t  Lugar       Puntaje\n",
        "\t------------------------------------\n",
        "\tTienda 1\t\t4to Lugar   2.5 Puntos\n",
        "\tTienda 2\t\t3er Lugar   5 Puntos\n",
        "\tTienda 3\t\t2do Lugar   7.5 Puntos\n",
        "\tTienda 4\t\t1er Lugar   10 Puntos\n",
        "\n",
        "    Tienda\t\t  Lugar       Puntaje Acumulado\n",
        "\t------------------------------------\n",
        "\tTienda 1\t\t4to Lugar   22.5 Puntos\n",
        "\tTienda 2\t\t2do Lugar   25 Puntos\n",
        "\tTienda 3\t\t3er Lugar   25 Puntos\n",
        "\tTienda 4\t\t1er Lugar   27.5 Puntos\n",
        "\n",
        "\n",
        "### Calificación de Tienda por el Cliente\n",
        "\n",
        "Debemos tener en cuenta que el negocio ha logrado sobresalir gracias a los clientes, y es a ellos a quienes se le debe brindar la mejor atención posible para que sigan prefiriendo acudir a cualquiera de sus sucursales, por lo que, com último rubro, pero igual de importante que los demás, se obtiene la calificación promedio que los clientes han dado a cada una de las sucursales:\n",
        "\n",
        "\n",
        "\tTienda\t\tCalificación Promedio\n",
        "\t-------------------------------------\n",
        "\tTienda 1\t\t3.98\n",
        "\tTienda 2\t\t4.04\n",
        "\tTienda 3\t\t4.05\n",
        "\tTienda 4\t\t4.00\n",
        "\n",
        "\n",
        "![image.png](data:image/png;base64,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)\n",
        "\n",
        "Los resultados obtenidos muestran una competencia bastante reñida en cada una de sus tiendas, aún así hay una leve discrepancia en cada una de ellas, por lo que al prime lugar le añadiremos 10 puntos, al segundo 9 puntos, al tercero 8 puntos y al cuarto 7 puntos, quedando los reultado de la siguiente manera:\n",
        "\n",
        "\n",
        "\tTienda\t\t  Lugar       Puntaje\n",
        "\t------------------------------------\n",
        "\tTienda 1\t\t1er Lugar   7 Puntos\n",
        "\tTienda 2\t\t2do Lugar   9 Puntos\n",
        "\tTienda 3\t\t3er Lugar   10 Puntos\n",
        "\tTienda 4\t\t4to Lugar   8 Puntos\n",
        "\n",
        "\n",
        "\tTienda\t\t  Lugar       Puntaje Acumulado\n",
        "\t------------------------------------\n",
        "\tTienda 1\t\t4to Lugar   29.5 Puntos\n",
        "\tTienda 2\t\t2do Lugar   34 Puntos\n",
        "\tTienda 3\t\t3er Lugar   35 Puntos\n",
        "\tTienda 4\t\t1er Lugar   35.5 Puntos\n",
        "\n",
        "\n",
        "##Análisis de resultados y conclusión\n",
        "\n",
        "Desupués de un análisis por rubro, llegamos a esta parte final del análisis. Los resultados por tienda se muestran a continuación:\n",
        "\n",
        "\tTienda\t\t  Lugar       Puntaje Acumulado\n",
        "\t------------------------------------\n",
        "\tTienda 1\t\t4to Lugar   29.5 Puntos\n",
        "\tTienda 2\t\t2do Lugar   34 Puntos\n",
        "\tTienda 3\t\t3er Lugar   35 Puntos\n",
        "\tTienda 4\t\t1er Lugar   35.5 Puntos\n",
        "\n",
        "Como podemos observar, habiendo explicado los rubros tomados en cuenta y el peso que se le daría a cada uno de estos llegamos a que la tienda con mayores beneficios respecto a los costos, satisfacción del cliente y logística es la tienda número 4, que a pesar de que es la tienda que menores ingresos percibe, es la que mas los optimiza y sus clientes tienen una experiencia agradable comprando aquí. Por otro lado, es la tienda 1 la que mayores ingresos genera, sin embargo, es la que menos satisfacción genera a sus clientes, además de la que mayor gasta en términos de envío.\n",
        "\n",
        "Por lo tanto, la recomendación basada en los datos presentados en este informe es vender la Tienda 1.\n",
        "\n",
        "Saludos."
      ],
      "metadata": {
        "id": "fcZJelJ13a1g"
      }
    }
  ]
}